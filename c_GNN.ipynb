{
 "cells": [
  {
   "cell_type": "code",
   "execution_count": 1,
   "metadata": {},
   "outputs": [],
   "source": [
    "import pandas as pd\n",
    "import numpy as np\n",
    "import regex as re\n",
    "import igraph as ig\n",
    "import sys\n",
    "from pytictoc import TicToc\n",
    "import matplotlib.pyplot as plt\n",
    "import seaborn as sns\n",
    "from functools import reduce\n",
    "import itertools\n",
    "from itertools import chain\n",
    "import pickle\n",
    "import networkx as nx\n",
    "from torch_geometric.data import Data\n",
    "from torch_geometric.data import Data, DataLoader\n",
    "from sklearn.metrics import mean_absolute_error\n",
    "from torch_geometric.nn import GNNExplainer\n",
    "from torch_geometric.utils import to_networkx, from_networkx\n",
    "from sklearn.model_selection import StratifiedKFold, train_test_split\n",
    "import verstack\n",
    "from verstack.stratified_continuous_split import scsplit\n",
    "from pytorch_metric_learning import miners, losses\n",
    "from pytorch_metric_learning.distances import SNRDistance, CosineSimilarity\n",
    "from pytorch_metric_learning.regularizers import LpRegularizer\n",
    "from pytorch_metric_learning.reducers import ThresholdReducer\n",
    "import torch\n",
    "from torch.nn import Linear\n",
    "import torch.nn.functional as F\n",
    "from torch_geometric.nn import GCNConv, TopKPooling, global_mean_pool, GATConv, LEConv, GraphConv, MFConv\n",
    "from torch_geometric.nn import global_mean_pool as gap, global_max_pool as gmp, global_add_pool as gadp, global_sort_pool as gsp\n",
    "from torch_geometric.nn import Set2Set as s2s"
   ]
  },
  {
   "cell_type": "raw",
   "metadata": {},
   "source": [
    "Input: a dictionary of prepared PyG objects (without outlier) and vecttor dataframe\n",
    "output: DAGs embedding \n",
    "\n",
    "Runtime: ca. 6-12 hours, depending on settings of neural network and early stop. \n",
    "\n",
    "This script is executed with multiple settings, the changing parameters are the loss function, GPL, and embedding size. One can reproduce the results by using the same settings described in the name of the embeddings' dataset. The generated models are already available in models folder\n"
   ]
  },
  {
   "cell_type": "code",
   "execution_count": null,
   "metadata": {},
   "outputs": [],
   "source": [
    "time = TicToc()\n",
    "device = torch.device(\"cuda:0\" if torch.cuda.is_available() else \"cpu\")"
   ]
  },
  {
   "cell_type": "code",
   "execution_count": 8,
   "metadata": {},
   "outputs": [],
   "source": [
    "file_to_read = open(\"data/PyGO_vector_NNprepared.pickle\", \"rb\")\n",
    "dpyg_y = pickle.load(file_to_read)\n",
    "vectordf = pd.read_csv(\"data/vectorDF.csv\")"
   ]
  },
  {
   "cell_type": "code",
   "execution_count": 9,
   "metadata": {},
   "outputs": [
    {
     "data": {
      "text/plain": [
       "Index(['rtime', 'maxPath', 'numEdges', 'numNodes', 'avgShorPath', 'longPath',\n",
       "       'numCliques', 'sumCent', 'maxDegree', 'att1_maxDeg', 'att2_maxDeg',\n",
       "       'att3_maxDeg', 'avgNodeDegree', 'avgInsNum', 'avgPlanCpu', 'avgPlanMem',\n",
       "       'sumInsNum', 'sumPlanCpu', 'sumPlanMem', 'maxInsNum', 'maxPlanCpu',\n",
       "       'maxPlanMem', 'job_name'],\n",
       "      dtype='object')"
      ]
     },
     "execution_count": 9,
     "metadata": {},
     "output_type": "execute_result"
    }
   ],
   "source": [
    "vectordf.columns"
   ]
  },
  {
   "cell_type": "code",
   "execution_count": 10,
   "metadata": {},
   "outputs": [
    {
     "data": {
      "text/plain": [
       "18"
      ]
     },
     "execution_count": 10,
     "metadata": {},
     "output_type": "execute_result"
    }
   ],
   "source": [
    "vectordf.columns.get_loc(\"sumPlanMem\")"
   ]
  },
  {
   "cell_type": "code",
   "execution_count": 12,
   "metadata": {},
   "outputs": [],
   "source": [
    "#stratified splitting\n",
    "train, valid = scsplit(vectordf, random_state = 4, stratify = vectordf.iloc[:,0], continuous = True, train_size = 0.7)\n",
    "train_job_list = train.job_name.to_list()"
   ]
  },
  {
   "cell_type": "code",
   "execution_count": 13,
   "metadata": {},
   "outputs": [
    {
     "name": "stdout",
     "output_type": "stream",
     "text": [
      "264.73221408146486\n",
      "264.6920664919892\n"
     ]
    }
   ],
   "source": [
    "#test if the train and test are well splitted \n",
    "tr_df = vectordf[vectordf['job_name'].isin(train_job_list)]\n",
    "te_df = vectordf[vectordf['job_name'].isin(train_job_list) == False]\n",
    "print(np.mean(tr_df.rtime))\n",
    "print(np.mean(te_df.rtime))"
   ]
  },
  {
   "cell_type": "code",
   "execution_count": 14,
   "metadata": {},
   "outputs": [],
   "source": [
    "train_dict  = dict((k, v) for k, v in dpyg_y.items() if k in train_job_list)\n",
    "test_dict  = dict((k, v) for k, v in dpyg_y.items() if k not in train_job_list)"
   ]
  },
  {
   "cell_type": "code",
   "execution_count": null,
   "metadata": {},
   "outputs": [],
   "source": [
    "included = {}\n",
    "excluded = {}\n",
    "\n",
    "for k, v in dpyg_y.items():\n",
    "    if k in train_job_list:\n",
    "        included[k] = v\n",
    "    else:\n",
    "        excluded[k] = v\n"
   ]
  },
  {
   "cell_type": "code",
   "execution_count": 15,
   "metadata": {},
   "outputs": [],
   "source": [
    "## data assignment\n",
    "\n",
    "#assignment\n",
    "data = list(dpyg_y.values())\n",
    "ls_jobs = list(dpyg_y.keys())\n",
    "\n",
    "\n",
    "#assignment train\n",
    "data_train = list(train_dict.values())\n",
    "ls_jobs_train = list(train_dict.keys())\n",
    "\n",
    "#assignment test\n",
    "data_test = list(test_dict.values())\n",
    "ls_jobs_test = list(test_dict.keys())"
   ]
  },
  {
   "cell_type": "code",
   "execution_count": 16,
   "metadata": {},
   "outputs": [],
   "source": [
    "dataset = DataLoader(data,  batch_size=128, shuffle=False)\n",
    "train_loader = DataLoader(data_train, batch_size=128, shuffle=True)\n",
    "test_loader = DataLoader(data_test, batch_size=128, shuffle=True)"
   ]
  },
  {
   "cell_type": "code",
   "execution_count": 19,
   "metadata": {},
   "outputs": [
    {
     "name": "stdout",
     "output_type": "stream",
     "text": [
      "GCN(\n",
      "  (initial_conv): MFConv(3, 64)\n",
      "  (conv1): MFConv(64, 64)\n",
      "  (conv2): MFConv(64, 64)\n",
      "  (conv3): MFConv(64, 64)\n",
      ")\n",
      "Number of parameters:  277376\n"
     ]
    }
   ],
   "source": [
    "#Structure of GNN\n",
    "#the size of embedding, and GPL should be set here\n",
    "\n",
    "embedding_size = 64\n",
    "\n",
    "class GCN(torch.nn.Module):\n",
    "    def __init__(self):\n",
    "        # Init parent\n",
    "        super(GCN, self).__init__()\n",
    "        torch.manual_seed(42)\n",
    "\n",
    "        # GCN layers\n",
    "        self.initial_conv = MFConv(3, embedding_size)\n",
    "        self.conv1 = MFConv(embedding_size, embedding_size)\n",
    "        self.conv2 = MFConv(embedding_size, embedding_size)\n",
    "        self.conv3 = MFConv(embedding_size, embedding_size)\n",
    "\n",
    "\n",
    "        \n",
    "    def forward(self, x, edge_index, batch_index):\n",
    "\n",
    "        hidden = self.initial_conv(x, edge_index)\n",
    "        hidden = F.elu(hidden)\n",
    "        \n",
    "        hidden = self.conv1(hidden, edge_index)\n",
    "        hidden = F.elu(hidden)\n",
    "        hidden = self.conv2(hidden, edge_index)\n",
    "        hidden = F.elu(hidden)\n",
    "        hidden = self.conv3(hidden, edge_index)\n",
    "        hidden = F.elu(hidden)\n",
    "\n",
    "\n",
    "        hidden = gap(hidden, batch_index)\n",
    "        \n",
    "        hidden = F.dropout(hidden, p=0.5, training = self.training)\n",
    "\n",
    "        return hidden\n",
    "\n",
    "model = GCN()\n",
    "print(model)\n",
    "print(\"Number of parameters: \", sum(p.numel() for p in model.parameters()))"
   ]
  },
  {
   "cell_type": "code",
   "execution_count": 20,
   "metadata": {},
   "outputs": [],
   "source": [
    "# loss functions definition\n",
    "\n",
    "\n",
    "miner = miners.MultiSimilarityMiner()\n",
    "\n",
    "loss_TripletMarginLoss = losses.TripletMarginLoss(distance = SNRDistance(), \n",
    "                    embedding_regularizer = LpRegularizer())\n",
    "\n",
    "\n",
    "loss_TripletMarginLoss2 = losses.TripletMarginLoss(distance = CosineSimilarity(), \n",
    "                                    embedding_regularizer = LpRegularizer())\n",
    "\n",
    "loss_Contrast = losses.ContrastiveLoss(pos_margin=0, neg_margin=1, embedding_regularizer = LpRegularizer()).to(device)                                                 \n",
    "                                                  \n",
    "loss_MultiSimilarityLoss = losses.MultiSimilarityLoss(distance = SNRDistance(), \n",
    "                    embedding_regularizer = LpRegularizer())"
   ]
  },
  {
   "cell_type": "code",
   "execution_count": 21,
   "metadata": {},
   "outputs": [],
   "source": [
    "# The type of loss function should be determined here\n",
    "\n",
    "def loss_aggregator_2(batch, embedding):\n",
    "    \n",
    "      y_rtime, y_avgShorPath, y_sumCent, y_maxDegree, y_att2_maxDeg, y_avgNodeDegree, y_avgInsNum, y_sumInsNum, y_maxInsNum, y_maxPlanMem = batch.y[:,0], batch.y[:,4], batch.y[:,7], batch.y[:,8], batch.y[:,10], batch.y[:,12], batch.y[:,13], batch.y[:,16], batch.y[:,19], batch.y[:,21]\n",
    "        \n",
    "      \n",
    "      \n",
    "      y_rtime = torch.reshape(y_rtime, (len(batch.y),1))\n",
    "      y_avgShorPath = torch.reshape(y_avgShorPath, (len(batch.y),1))\n",
    "      y_sumCent = torch.reshape(y_sumCent, (len(batch.y),1))\n",
    "      y_maxDegree = torch.reshape(y_maxDegree, (len(batch.y),1))\n",
    "      y_att2_maxDeg = torch.reshape(y_att2_maxDeg, (len(batch.y),1))\n",
    "      y_avgNodeDegree = torch.reshape(y_avgNodeDegree, (len(batch.y),1))     \n",
    "      y_avgInsNum = torch.reshape(y_avgInsNum, (len(batch.y),1))\n",
    "      y_sumInsNum = torch.reshape(y_sumInsNum, (len(batch.y),1))\n",
    "      y_maxInsNum = torch.reshape(y_maxInsNum, (len(batch.y),1))\n",
    "      y_maxPlanMem = torch.reshape(y_maxPlanMem, (len(batch.y),1))\n",
    "\n",
    "      hp_rtime = miner(embedding, batch.y[:,0])\n",
    "      hp_avgShorPath = miner(embedding, batch.y[:,4])\n",
    "      hp_sumCent = miner(embedding, batch.y[:,7])\n",
    "      hp_maxDegree = miner(embedding, batch.y[:,8])\n",
    "      hp_att2_maxDeg = miner(embedding, batch.y[:,10])\n",
    "      hp_avgNodeDegree = miner(embedding, batch.y[:,12])    \n",
    "      hp_avgInsNum = miner(embedding, batch.y[:,13])\n",
    "      hp_sumInsNum = miner(embedding, batch.y[:,16])\n",
    "      hp_maxInsNum = miner(embedding, batch.y[:,19])\n",
    "      hp_maxPlanMem = miner(embedding, batch.y[:,21])\n",
    "        \n",
    "      l_rtime = loss_TripletMarginLoss2(embedding, batch.y[:,0], hp_rtime)\n",
    "      l_avgShorPath = loss_TripletMarginLoss2(embedding, batch.y[:,4], hp_avgShorPath)\n",
    "      l_sumCent = loss_TripletMarginLoss2(embedding, batch.y[:,7], hp_sumCent)\n",
    "      l_maxDegree = loss_TripletMarginLoss2(embedding, batch.y[:,8], hp_maxDegree)\n",
    "      l_att2_maxDeg = loss_TripletMarginLoss2(embedding, batch.y[:,10], hp_att2_maxDeg)\n",
    "      l_avgNodeDegree = loss_TripletMarginLoss2(embedding, batch.y[:,12], hp_avgNodeDegree)   \n",
    "      l_avgInsNum = loss_TripletMarginLoss2(embedding, batch.y[:,13], hp_avgInsNum)\n",
    "      l_sumInsNum = loss_TripletMarginLoss2(embedding, batch.y[:,16], hp_sumInsNum)\n",
    "      l_maxInsNum = loss_TripletMarginLoss2(embedding, batch.y[:,19], hp_maxInsNum)\n",
    "      l_maxPlanMem = loss_TripletMarginLoss2(embedding, batch.y[:,21], hp_maxPlanMem)\n",
    "      \n",
    "    \n",
    "      \n",
    "      loss = l_rtime + l_avgShorPath + l_sumCent + l_maxDegree + l_att2_maxDeg + l_avgNodeDegree + l_avgInsNum + l_sumInsNum + l_maxInsNum + l_maxPlanMem\n",
    "    \n",
    "      return loss\n",
    "    "
   ]
  },
  {
   "cell_type": "code",
   "execution_count": null,
   "metadata": {},
   "outputs": [],
   "source": [
    "from torch_geometric.data import DataLoader\n",
    "import warnings\n",
    "warnings.filterwarnings(\"ignore\")\n",
    "optimizer = torch.optim.Adam(model.parameters(), lr = 0.001, weight_decay=0.0001)  \n",
    "\n",
    "\n",
    "model = model.to(device)\n",
    "\n",
    "data_size = len(data)\n",
    "NUM_GRAPHS_PER_BATCH = 128\n",
    "\n",
    "\n",
    "def train(data):\n",
    "    \n",
    "    model.train()\n",
    "    # Enumerate over the data\n",
    "    for batch in train_loader:\n",
    "      # Use GPU\n",
    "      batch.to(device)  \n",
    "      # Reset gradients\n",
    "      optimizer.zero_grad() \n",
    "      # Passing the node features and the connection info\n",
    "      embedding = model(batch.x.float(), batch.edge_index, batch.batch)   \n",
    "   \n",
    "      loss = loss_aggregator_2(batch, embedding)\n",
    "\n",
    "      loss.backward()  \n",
    "\n",
    "      optimizer.step()   \n",
    "    \n",
    "    return loss, embedding\n",
    "\n",
    "def evaluate(data):\n",
    "    \n",
    "    model.eval()\n",
    "    \n",
    "    with torch.no_grad(): \n",
    "\n",
    "        for batch in test_loader:\n",
    "\n",
    "           batch.to(device)  \n",
    "        \n",
    "           optimizer.zero_grad() \n",
    "            \n",
    "           embedding = model(batch.x.float(), batch.edge_index, batch.batch)   \n",
    "   \n",
    "           loss = loss_aggregator_2(batch, embedding)\n",
    "    \n",
    "    return loss\n",
    "\n",
    "\n",
    "print(\"Starting training...\")\n",
    "losses_train_list = []\n",
    "\n",
    "losses_test_list = []\n",
    "\n",
    "\n",
    "for epoch in range(2000):\n",
    "    time.tic()\n",
    "    loss_train, h = train(data)\n",
    "    loss_test = evaluate(data)\n",
    "    losses_train_list.append(loss_train)\n",
    "    losses_test_list.append(loss_test)  \n",
    "    print(f\"Epoch {epoch} | Train Loss {loss_train}| Test Loss {loss_test}\")\n",
    "    time.toc()\n",
    "#Early stopping\n",
    "   # calculate losses for test loader and afterward \n",
    "   # model.eval()\n",
    "    if losses_test_list[epoch - 1] < losses_test_list[epoch]:\n",
    "\n",
    "            earlyStopFlag +=1\n",
    "    else: \n",
    "            earlyStopFlag =0\n",
    "    \n",
    "    if (earlyStopFlag > 3):\n",
    "        print(\"Overfitting\")\n",
    "        break\n"
   ]
  },
  {
   "cell_type": "code",
   "execution_count": 92,
   "metadata": {
    "scrolled": true
   },
   "outputs": [
    {
     "data": {
      "text/plain": [
       "[Text(0.5, 0, 'Epoch'), Text(0, 0.5, 'Loss')]"
      ]
     },
     "execution_count": 92,
     "metadata": {},
     "output_type": "execute_result"
    },
    {
     "data": {
      "image/png": "[encoded data removed]",
      "text/plain": [
       "<Figure size 432x288 with 1 Axes>"
      ]
     },
     "metadata": {
      "needs_background": "light"
     },
     "output_type": "display_data"
    }
   ],
   "source": [
    "import seaborn as sns\n",
    "losses_train_float = [float(loss.cpu().detach().numpy()) for loss in losses_train_list] \n",
    "loss_indices_train = [i for i,l in enumerate(losses_train_float)] \n",
    "\n",
    "losses_test_float = [float(loss.cpu().detach().numpy()) for loss in losses_test_list] \n",
    "loss_indices_test = [i for i,l in enumerate(losses_test_float)] \n",
    "\n",
    "plt = sns.lineplot(loss_indices_train, losses_train_float)\n",
    "plt = sns.lineplot(loss_indices_test, losses_test_float)\n",
    "\n",
    "plt.legend(labels=[\"train_loss\",\"test_loss\"])\n",
    "plt.set(xlabel='Epoch', ylabel='Loss')"
   ]
  },
  {
   "cell_type": "code",
   "execution_count": 95,
   "metadata": {},
   "outputs": [],
   "source": [
    "fig = plt.get_figure()\n",
    "#fig.savefig(\"graphs/model_FINAL_TripletMarginLoss2_default_Distance_11Ys_131Epochs_train_test_stratified.png\",dpi=300)\n",
    "#torch.save(model.state_dict(), \"models/model_FINAL_TripletMarginLoss2_default_Distance_11Ys_131Epochs_train_test_stratified\")"
   ]
  },
  {
   "cell_type": "code",
   "execution_count": null,
   "metadata": {},
   "outputs": [],
   "source": [
    "#generating embeddings of whole data using trained model\n",
    "#the trained models are available in models folder\n",
    "model2 = GCN()\n",
    "model2.load_state_dict(torch.load(\"models/model_FINAL_TripletMarginLoss2_default_Distance_11Ys_131Epochs_train_test_stratified\"))\n",
    "entireloader = DataLoader(data, batch_size=128, shuffle=False)\n",
    "\n",
    "#creating list of embeddings\n",
    "embedList = []\n",
    "\n",
    "#disabling gradient\n",
    "model2.eval()\n",
    "\n",
    "for batches in dataset:\n",
    "       with torch.no_grad():\n",
    "            batches.to(device)\n",
    "            embed = model2(batches.x.float(), batches.edge_index, batches.batch)\n",
    "            embedList.append(embed)\n",
    "embedList = list(map(lambda x: x.tolist(), embedList))   \n",
    "\n",
    "\n",
    "#dataframe generating\n",
    "#change range of header if required\n",
    "header = list(range (96))\n",
    "embedDf = pd.DataFrame(columns = header)\n",
    "for r in embedList:\n",
    "    embedDf = pd.concat([embedDf, pd.DataFrame(r, columns = header)], ignore_index=True, sort=False)"
   ]
  },
  {
   "cell_type": "code",
   "execution_count": null,
   "metadata": {},
   "outputs": [],
   "source": [
    "embedDf = embedDf.assign(job_name = ls_jobs)"
   ]
  },
  {
   "cell_type": "code",
   "execution_count": null,
   "metadata": {},
   "outputs": [],
   "source": [
    "#embedDf.to_csv(\"data/model_FINAL_TripletMarginLoss2_default_Distance_11Ys_131Epochs_train_test_stratified.csv\")"
   ]
  }
 ],
 "metadata": {
  "kernelspec": {
   "display_name": "Python 3",
   "language": "python",
   "name": "python3"
  },
  "language_info": {
   "codemirror_mode": {
    "name": "ipython",
    "version": 3
   },
   "file_extension": ".py",
   "mimetype": "text/x-python",
   "name": "python",
   "nbconvert_exporter": "python",
   "pygments_lexer": "ipython3",
   "version": "3.7.7"
  }
 },
 "nbformat": 4,
 "nbformat_minor": 4
}
