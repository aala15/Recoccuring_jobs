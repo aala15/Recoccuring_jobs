{
 "cells": [
  {
   "cell_type": "code",
   "execution_count": 1,
   "metadata": {},
   "outputs": [],
   "source": [
    "import pandas as pd\n",
    "import numpy as np\n",
    "import regex as re\n",
    "import igraph\n",
    "import sys\n",
    "from pytictoc import TicToc\n",
    "import statistics\n",
    "import statsmodels.api as sm\n",
    "import matplotlib.pyplot as plt\n",
    "import datetime\n",
    "from sklearn.model_selection import train_test_split\n",
    "import seaborn as sns\n",
    "from sklearn import datasets, linear_model\n",
    "from sklearn.metrics import mean_squared_error, r2_score, mean_absolute_error\n",
    "from igraph import Graph"
   ]
  },
  {
   "cell_type": "raw",
   "metadata": {},
   "source": [
    "Rule-Based Prediction\n",
    "Input: vectorDF, ruleBased_DAGs, aggFeatures\n",
    "Output: prediction of runtimes using classes determined by rule-based classification\n",
    "\n",
    "Runtime: lesser than 30 minutes\n",
    "Prediction with different scenarios, calculation of statistics over identified groups\n",
    "Applying prediction using multiple aggregated features namely: var, max, sum, mean, no, all\n"
   ]
  },
  {
   "cell_type": "code",
   "execution_count": 2,
   "metadata": {},
   "outputs": [],
   "source": [
    "time=TicToc()"
   ]
  },
  {
   "cell_type": "code",
   "execution_count": 5,
   "metadata": {},
   "outputs": [],
   "source": [
    "y_vector_df = pd.read_csv(\"data/vectorDF.csv\")\n",
    "DAG = pd.read_csv(\"data/ruleBased_DAGs.csv\",sep =',')\n",
    "features = pd.read_csv(\"data/aggFeatures.csv\",sep =',')"
   ]
  },
  {
   "cell_type": "code",
   "execution_count": 6,
   "metadata": {},
   "outputs": [],
   "source": [
    "DAG = pd.merge(DAG, features, how='inner', left_on = 'job_name', right_on = 'job_name')\n",
    "DAG.drop('Unnamed: 0', axis=1)\n",
    "DAG = DAG[DAG.job_name.isin(y_vector_df.job_name)]"
   ]
  },
  {
   "cell_type": "code",
   "execution_count": 7,
   "metadata": {},
   "outputs": [],
   "source": [
    "DAG['groupSize'] = DAG.groupby('group')['group'].transform('size')\n",
    "DAG = DAG[DAG.groupSize > 2]"
   ]
  },
  {
   "cell_type": "code",
   "execution_count": 8,
   "metadata": {},
   "outputs": [],
   "source": [
    "DAG = DAG.sort_values(\"totalStart\", ascending=True)"
   ]
  },
  {
   "cell_type": "code",
   "execution_count": 9,
   "metadata": {},
   "outputs": [
    {
     "data": {
      "text/plain": [
       "Unnamed: 0          -0.002432\n",
       "totalStart          -0.047840\n",
       "totalEnd            -0.045403\n",
       "run_time             1.000000\n",
       "nNodes               0.178489\n",
       "IfMins              -0.020601\n",
       "IfHours             -0.027012\n",
       "IfDays               0.069643\n",
       "mutable                   NaN\n",
       "group                0.057207\n",
       "instance_num_mean    0.296019\n",
       "plan_cpu_mean       -0.168357\n",
       "plan_mem_mean        0.072516\n",
       "instance_num_sum     0.332102\n",
       "plan_cpu_sum         0.050232\n",
       "plan_mem_sum         0.184384\n",
       "instance_num_max     0.271172\n",
       "plan_cpu_max        -0.118089\n",
       "plan_mem_max         0.154511\n",
       "instance_num_var     0.122272\n",
       "plan_cpu_var         0.026709\n",
       "plan_mem_var         0.135670\n",
       "groupSize           -0.069307\n",
       "Name: run_time, dtype: float64"
      ]
     },
     "execution_count": 9,
     "metadata": {},
     "output_type": "execute_result"
    }
   ],
   "source": [
    "DAG.corr().run_time"
   ]
  },
  {
   "cell_type": "code",
   "execution_count": 10,
   "metadata": {},
   "outputs": [],
   "source": [
    "groupList = DAG['group'].unique().tolist()"
   ]
  },
  {
   "cell_type": "code",
   "execution_count": 11,
   "metadata": {},
   "outputs": [
    {
     "name": "stdout",
     "output_type": "stream",
     "text": [
      "Elapsed time is 155.774369 seconds.\n"
     ]
    }
   ],
   "source": [
    "### prediction using var of graph level attributes \n",
    "mselist_var = []\n",
    "maelist_var = []\n",
    "predicated_var = []\n",
    "real_var = []\n",
    "time.tic()\n",
    "for gr in groupList:\n",
    "    temp = DAG[DAG.group==gr]\n",
    "    X_train, X_test, y_train, y_test = train_test_split(temp[['plan_cpu_var', 'plan_mem_var', 'instance_num_var']], temp[['run_time']], test_size=0.0001, shuffle=False)\n",
    "    regr = linear_model.LinearRegression()\n",
    "    regr.fit(X_train, y_train)\n",
    "    y_pred_var = regr.predict(X_test)\n",
    "    predicated_var.append(y_pred_var.flatten()[0])\n",
    "    real_var.append(y_test.iloc[0]['run_time'])\n",
    "    mselist_var.append(mean_squared_error(y_test, y_pred_var)) \n",
    "    maelist_var.append(mean_absolute_error(y_test, y_pred_var)) \n",
    "time.toc()"
   ]
  },
  {
   "cell_type": "code",
   "execution_count": 13,
   "metadata": {},
   "outputs": [
    {
     "name": "stdout",
     "output_type": "stream",
     "text": [
      "Elapsed time is 154.354709 seconds.\n"
     ]
    }
   ],
   "source": [
    "### prediction using MAX of graph level attributes \n",
    "mselist_max = []\n",
    "maelist_max = []\n",
    "predicated_max = []\n",
    "time.tic()\n",
    "for gr in groupList:\n",
    "    temp = DAG[DAG.group==gr]\n",
    "    X_train, X_test, y_train, y_test = train_test_split(temp[['plan_cpu_max', 'plan_mem_max', 'instance_num_max']], temp[['run_time']], test_size=0.00001, shuffle=False)\n",
    "    regr = linear_model.LinearRegression()\n",
    "    regr.fit(X_train, y_train)\n",
    "    y_pred_max = regr.predict(X_test)\n",
    "    predicated_max.append(y_pred_max.flatten()[0])\n",
    "    mselist_max.append(mean_squared_error(y_test, y_pred_max)) \n",
    "    maelist_max.append(mean_absolute_error(y_test, y_pred_max)) \n",
    "time.toc()\n",
    "\n"
   ]
  },
  {
   "cell_type": "code",
   "execution_count": 14,
   "metadata": {},
   "outputs": [
    {
     "name": "stdout",
     "output_type": "stream",
     "text": [
      "Elapsed time is 154.381356 seconds.\n"
     ]
    }
   ],
   "source": [
    "### prediction using sum of graph level attributes \n",
    "maelist_sum = []\n",
    "mselist_sum = []\n",
    "predicated_sum = []\n",
    "time.tic()\n",
    "for gr in groupList:\n",
    "    temp = DAG[DAG.group==gr]\n",
    "    X_train, X_test, y_train, y_test = train_test_split(temp[['instance_num_sum', 'plan_cpu_sum', 'plan_mem_sum']], temp[['run_time']], test_size=0.00001, shuffle=False)\n",
    "    regr = linear_model.LinearRegression()\n",
    "    regr.fit(X_train, y_train)\n",
    "    y_pred_sum = regr.predict(X_test)\n",
    "    predicated_sum.append(y_pred_sum.flatten()[0])\n",
    "    mselist_sum.append(mean_squared_error(y_test, y_pred_sum)) \n",
    "    maelist_sum.append(mean_absolute_error(y_test, y_pred_sum)) \n",
    "time.toc()"
   ]
  },
  {
   "cell_type": "code",
   "execution_count": 15,
   "metadata": {},
   "outputs": [
    {
     "name": "stdout",
     "output_type": "stream",
     "text": [
      "Elapsed time is 154.409179 seconds.\n"
     ]
    }
   ],
   "source": [
    "### prediction using mean of graph level attributes \n",
    "mselist_mean = []\n",
    "maelist_mean = []\n",
    "predicated_mean = []\n",
    "time.tic()\n",
    "for gr in groupList:\n",
    "    temp = DAG[DAG.group==gr]\n",
    "    X_train, X_test, y_train, y_test = train_test_split(temp[['instance_num_mean', 'plan_cpu_mean', 'plan_mem_mean']], temp[['run_time']], test_size=0.00001, shuffle=False)\n",
    "    regr = linear_model.LinearRegression()\n",
    "    regr.fit(X_train, y_train)\n",
    "    y_pred_mean = regr.predict(X_test)\n",
    "    predicated_mean.append(y_pred_mean.flatten()[0])\n",
    "    mselist_mean.append(mean_squared_error(y_test, y_pred_mean)) \n",
    "    maelist_mean.append(mean_absolute_error(y_test, y_pred_mean)) \n",
    "time.toc()\n"
   ]
  },
  {
   "cell_type": "code",
   "execution_count": 16,
   "metadata": {},
   "outputs": [
    {
     "name": "stdout",
     "output_type": "stream",
     "text": [
      "Elapsed time is 152.617531 seconds.\n"
     ]
    }
   ],
   "source": [
    "#### prediction using only group names\n",
    "DAG['val'] = 1\n",
    "r2list = []\n",
    "mselist_pure = []\n",
    "maelist_pure = []\n",
    "predicated_nothing = []\n",
    "time.tic()\n",
    "for gr in groupList:\n",
    "    temp = DAG[DAG.group==gr]\n",
    "    X_train, X_test, y_train, y_test = train_test_split(temp[['val']], temp[['run_time']], test_size=0.00001, shuffle=False)\n",
    "    regr = linear_model.LinearRegression()\n",
    "    regr.fit(X_train, y_train)\n",
    "    y_pred_nothing = regr.predict(X_test)\n",
    "    predicated_nothing.append(y_pred_nothing.flatten()[0])\n",
    "    mselist_pure.append(mean_squared_error(y_test, y_pred_nothing)) \n",
    "    maelist_pure.append(mean_absolute_error(y_test, y_pred_nothing)) \n",
    "time.toc()\n",
    "\n"
   ]
  },
  {
   "cell_type": "code",
   "execution_count": 17,
   "metadata": {},
   "outputs": [
    {
     "name": "stdout",
     "output_type": "stream",
     "text": [
      "Elapsed time is 157.251077 seconds.\n"
     ]
    }
   ],
   "source": [
    "time.tic()\n",
    "mselist_all_all = []\n",
    "maelist_all_all = []\n",
    "predicated_all = []\n",
    "time.tic()\n",
    "for gr in groupList:\n",
    "    temp = DAG[DAG.group==gr]\n",
    "    X_train, X_test, y_train, y_test = train_test_split(temp[['instance_num_mean', 'plan_cpu_mean', 'plan_mem_mean',\n",
    "       'instance_num_sum', 'plan_cpu_sum', 'plan_mem_sum', 'instance_num_max',\n",
    "       'plan_cpu_max', 'plan_mem_max', 'instance_num_var', 'plan_cpu_var',\n",
    "       'plan_mem_var']], temp[['run_time']], test_size=0.00001, shuffle=False)\n",
    "    regr = linear_model.LinearRegression()\n",
    "    regr.fit(X_train, y_train)\n",
    "    y_pred_all = regr.predict(X_test)\n",
    "    predicated_all.append(y_pred_all.flatten()[0])\n",
    "    mselist_all_all.append(mean_squared_error(y_test, y_pred_all)) \n",
    "    maelist_all_all.append(mean_absolute_error(y_test, y_pred_all)) \n",
    "time.toc()\n",
    "\n"
   ]
  },
  {
   "cell_type": "code",
   "execution_count": 18,
   "metadata": {},
   "outputs": [
    {
     "name": "stdout",
     "output_type": "stream",
     "text": [
      "\n",
      "run time variance using var of features\n",
      "1.1276246887035183e+42\n",
      "1.419327715903662e+19\n",
      "\n",
      "run time variance using max of features\n",
      "3.5554507879650317e+28\n",
      "2286819344177.38\n",
      "\n",
      "run time variance using sum of features\n",
      "9.10033688404242e+32\n",
      "760905289462581.6\n",
      "\n",
      "run time variance using mean of features\n",
      "8.287824277587524e+32\n",
      "887612668508101.1\n",
      "\n",
      "run time variance using grup alone\n",
      "82521.85374116126\n",
      "135.9989401848899\n",
      "\n",
      "run time variance using all  features\n",
      "2.029202590299085e+43\n",
      "4.039845690223163e+19\n"
     ]
    }
   ],
   "source": [
    "\n",
    "print(\"\\nrun time variance using var of features\")\n",
    "print(mean_squared_error(real_var, predicated_var))\n",
    "print(mean_absolute_error(real_var, predicated_var))\n",
    "\n",
    "print(\"\\nrun time variance using max of features\")\n",
    "print(mean_squared_error(real_var, predicated_max))\n",
    "print(mean_absolute_error(real_var, predicated_max))\n",
    "\n",
    "print(\"\\nrun time variance using sum of features\")\n",
    "print(mean_squared_error(real_var, predicated_sum))\n",
    "print(mean_absolute_error(real_var, predicated_sum))\n",
    "\n",
    "print(\"\\nrun time variance using mean of features\")\n",
    "print(mean_squared_error(real_var, predicated_mean))\n",
    "print(mean_absolute_error(real_var, predicated_mean))\n",
    "\n",
    "print(\"\\nrun time variance using grup alone\")\n",
    "print(mean_squared_error(real_var, predicated_nothing))\n",
    "print(mean_absolute_error(real_var, predicated_nothing))\n",
    "\n",
    "print(\"\\nrun time variance using all  features\")\n",
    "print(mean_squared_error(real_var, predicated_all))\n",
    "print(mean_absolute_error(real_var, predicated_all))"
   ]
  },
  {
   "cell_type": "code",
   "execution_count": 19,
   "metadata": {},
   "outputs": [
    {
     "name": "stdout",
     "output_type": "stream",
     "text": [
      "1.1276246887035183e+42\n"
     ]
    }
   ],
   "source": [
    "print(mean_squared_error(real_var, predicated_var))"
   ]
  },
  {
   "cell_type": "code",
   "execution_count": 22,
   "metadata": {},
   "outputs": [],
   "source": [
    "#visualising the results\n",
    "\n",
    "cols = ['var','max','sum','mean','no','all','real']\n",
    "\n",
    "visualDF = pd.DataFrame(list(zip(predicated_var, \n",
    "                        predicated_max,\n",
    "                        predicated_sum,\n",
    "                        predicated_mean,\n",
    "                        predicated_nothing,\n",
    "                        predicated_all,\n",
    "                        real_var\n",
    "                        )),columns = cols)"
   ]
  },
  {
   "cell_type": "code",
   "execution_count": 23,
   "metadata": {},
   "outputs": [
    {
     "data": {
      "text/html": [
       "<div>\n",
       "<style scoped>\n",
       "    .dataframe tbody tr th:only-of-type {\n",
       "        vertical-align: middle;\n",
       "    }\n",
       "\n",
       "    .dataframe tbody tr th {\n",
       "        vertical-align: top;\n",
       "    }\n",
       "\n",
       "    .dataframe thead th {\n",
       "        text-align: right;\n",
       "    }\n",
       "</style>\n",
       "<table border=\"1\" class=\"dataframe\">\n",
       "  <thead>\n",
       "    <tr style=\"text-align: right;\">\n",
       "      <th></th>\n",
       "      <th>var</th>\n",
       "      <th>max</th>\n",
       "      <th>sum</th>\n",
       "      <th>mean</th>\n",
       "      <th>no</th>\n",
       "      <th>all</th>\n",
       "      <th>real</th>\n",
       "    </tr>\n",
       "  </thead>\n",
       "  <tbody>\n",
       "    <tr>\n",
       "      <th>0</th>\n",
       "      <td>973.168332</td>\n",
       "      <td>970.246441</td>\n",
       "      <td>913.873515</td>\n",
       "      <td>913.873515</td>\n",
       "      <td>914.166667</td>\n",
       "      <td>733.622166</td>\n",
       "      <td>324</td>\n",
       "    </tr>\n",
       "    <tr>\n",
       "      <th>1</th>\n",
       "      <td>1043.119652</td>\n",
       "      <td>999.239582</td>\n",
       "      <td>1020.765683</td>\n",
       "      <td>1020.765683</td>\n",
       "      <td>909.272727</td>\n",
       "      <td>4098.773568</td>\n",
       "      <td>916</td>\n",
       "    </tr>\n",
       "    <tr>\n",
       "      <th>2</th>\n",
       "      <td>178.035424</td>\n",
       "      <td>169.294225</td>\n",
       "      <td>6.530891</td>\n",
       "      <td>6.530891</td>\n",
       "      <td>738.714286</td>\n",
       "      <td>6.000000</td>\n",
       "      <td>7</td>\n",
       "    </tr>\n",
       "    <tr>\n",
       "      <th>3</th>\n",
       "      <td>298.427146</td>\n",
       "      <td>339.547770</td>\n",
       "      <td>472.633405</td>\n",
       "      <td>472.633405</td>\n",
       "      <td>320.576923</td>\n",
       "      <td>478.309986</td>\n",
       "      <td>242</td>\n",
       "    </tr>\n",
       "    <tr>\n",
       "      <th>4</th>\n",
       "      <td>2153.620395</td>\n",
       "      <td>2109.814351</td>\n",
       "      <td>1795.151153</td>\n",
       "      <td>1795.151153</td>\n",
       "      <td>2333.363636</td>\n",
       "      <td>2181.989629</td>\n",
       "      <td>2174</td>\n",
       "    </tr>\n",
       "    <tr>\n",
       "      <th>...</th>\n",
       "      <td>...</td>\n",
       "      <td>...</td>\n",
       "      <td>...</td>\n",
       "      <td>...</td>\n",
       "      <td>...</td>\n",
       "      <td>...</td>\n",
       "      <td>...</td>\n",
       "    </tr>\n",
       "    <tr>\n",
       "      <th>17282</th>\n",
       "      <td>21.000000</td>\n",
       "      <td>21.000000</td>\n",
       "      <td>21.000000</td>\n",
       "      <td>21.000000</td>\n",
       "      <td>20.333333</td>\n",
       "      <td>21.000000</td>\n",
       "      <td>16</td>\n",
       "    </tr>\n",
       "    <tr>\n",
       "      <th>17283</th>\n",
       "      <td>13.000000</td>\n",
       "      <td>13.000000</td>\n",
       "      <td>13.000000</td>\n",
       "      <td>13.000000</td>\n",
       "      <td>60.000000</td>\n",
       "      <td>13.000000</td>\n",
       "      <td>13</td>\n",
       "    </tr>\n",
       "    <tr>\n",
       "      <th>17284</th>\n",
       "      <td>50.000000</td>\n",
       "      <td>50.000000</td>\n",
       "      <td>50.000000</td>\n",
       "      <td>50.000000</td>\n",
       "      <td>80.500000</td>\n",
       "      <td>50.000000</td>\n",
       "      <td>52</td>\n",
       "    </tr>\n",
       "    <tr>\n",
       "      <th>17285</th>\n",
       "      <td>120.390663</td>\n",
       "      <td>130.500000</td>\n",
       "      <td>162.613861</td>\n",
       "      <td>124.111344</td>\n",
       "      <td>130.500000</td>\n",
       "      <td>162.364100</td>\n",
       "      <td>115</td>\n",
       "    </tr>\n",
       "    <tr>\n",
       "      <th>17286</th>\n",
       "      <td>327.469595</td>\n",
       "      <td>422.500000</td>\n",
       "      <td>330.500000</td>\n",
       "      <td>330.500000</td>\n",
       "      <td>422.500000</td>\n",
       "      <td>327.483504</td>\n",
       "      <td>379</td>\n",
       "    </tr>\n",
       "  </tbody>\n",
       "</table>\n",
       "<p>17287 rows × 7 columns</p>\n",
       "</div>"
      ],
      "text/plain": [
       "               var          max          sum         mean           no  \\\n",
       "0       973.168332   970.246441   913.873515   913.873515   914.166667   \n",
       "1      1043.119652   999.239582  1020.765683  1020.765683   909.272727   \n",
       "2       178.035424   169.294225     6.530891     6.530891   738.714286   \n",
       "3       298.427146   339.547770   472.633405   472.633405   320.576923   \n",
       "4      2153.620395  2109.814351  1795.151153  1795.151153  2333.363636   \n",
       "...            ...          ...          ...          ...          ...   \n",
       "17282    21.000000    21.000000    21.000000    21.000000    20.333333   \n",
       "17283    13.000000    13.000000    13.000000    13.000000    60.000000   \n",
       "17284    50.000000    50.000000    50.000000    50.000000    80.500000   \n",
       "17285   120.390663   130.500000   162.613861   124.111344   130.500000   \n",
       "17286   327.469595   422.500000   330.500000   330.500000   422.500000   \n",
       "\n",
       "               all  real  \n",
       "0       733.622166   324  \n",
       "1      4098.773568   916  \n",
       "2         6.000000     7  \n",
       "3       478.309986   242  \n",
       "4      2181.989629  2174  \n",
       "...            ...   ...  \n",
       "17282    21.000000    16  \n",
       "17283    13.000000    13  \n",
       "17284    50.000000    52  \n",
       "17285   162.364100   115  \n",
       "17286   327.483504   379  \n",
       "\n",
       "[17287 rows x 7 columns]"
      ]
     },
     "execution_count": 23,
     "metadata": {},
     "output_type": "execute_result"
    }
   ],
   "source": [
    "visualDF"
   ]
  },
  {
   "cell_type": "code",
   "execution_count": 24,
   "metadata": {},
   "outputs": [],
   "source": [
    "visualDF['AE_var'] = abs(visualDF['var'] - visualDF['real'])\n",
    "visualDF['AE_max'] = abs(visualDF['max'] - visualDF['real'])\n",
    "visualDF['AE_sum'] = abs(visualDF['sum'] - visualDF['real'])\n",
    "visualDF['AE_mean'] = abs(visualDF['mean'] - visualDF['real'])\n",
    "visualDF['AE_no'] = abs(visualDF['no'] - visualDF['real'])\n",
    "visualDF['AE_all'] = abs(visualDF['all'] - visualDF['real'])\n",
    "boxdf = visualDF[['AE_var', 'AE_max' , 'AE_sum' , 'AE_mean' , 'AE_no' , 'AE_all' ]]"
   ]
  },
  {
   "cell_type": "code",
   "execution_count": 64,
   "metadata": {},
   "outputs": [
    {
     "data": {
      "image/png": "[encoded data removed]",
      "text/plain": [
       "<Figure size 432x288 with 1 Axes>"
      ]
     },
     "metadata": {
      "needs_background": "light"
     },
     "output_type": "display_data"
    }
   ],
   "source": [
    "ax = boxdf.plot(kind='box',showfliers=False,vert=False)\n",
    "ax.set_xlabel(\"Absolute error\")\n",
    "ax.set_ylabel(\"Scenario\")\n",
    "plt.show()\n",
    "\n",
    "fig = ax.get_figure()\n",
    "\n",
    "\n",
    "#fig.savefig(\"graphs/boxplot_rulebased.pdf\", bbox_inches='tight')"
   ]
  },
  {
   "cell_type": "code",
   "execution_count": 25,
   "metadata": {},
   "outputs": [
    {
     "data": {
      "text/plain": [
       "327.4835037491466"
      ]
     },
     "execution_count": 25,
     "metadata": {},
     "output_type": "execute_result"
    }
   ],
   "source": [
    "y_pred_all.flatten()[0]"
   ]
  },
  {
   "cell_type": "code",
   "execution_count": 27,
   "metadata": {},
   "outputs": [
    {
     "data": {
      "text/plain": [
       "20292025902990845825625534775211391224643584"
      ]
     },
     "execution_count": 27,
     "metadata": {},
     "output_type": "execute_result"
    }
   ],
   "source": [
    "round(statistics.mean(mselist_all_all))"
   ]
  },
  {
   "cell_type": "code",
   "execution_count": null,
   "metadata": {},
   "outputs": [],
   "source": [
    "#### First Checkpoint ######"
   ]
  },
  {
   "cell_type": "code",
   "execution_count": 44,
   "metadata": {},
   "outputs": [],
   "source": [
    "#group of rule based classification analysis\n",
    "DAy_vector_df = pd.read_csv(\"data/vectorDF.csv\")\n",
    "DAG = pd.read_csv(\"data/ruleBased_DAGs.csv\",sep =',')\n",
    "features = pd.read_csv(\"data/aggFeatures.csv\",sep =',')\n",
    "DAG['groupSize'] = DAG.groupby('group')['group'].transform('size')\n",
    "temp = DAG[DAG.groupSize > 1]\n"
   ]
  },
  {
   "cell_type": "code",
   "execution_count": 45,
   "metadata": {},
   "outputs": [
    {
     "name": "stdout",
     "output_type": "stream",
     "text": [
      "#groups =  26980\n",
      "mean of group size =  8.535618977020015\n",
      "percentage of grouped jobs =  92.08840512484204\n"
     ]
    }
   ],
   "source": [
    "#number of groups\n",
    "print('#groups = ',len(set(temp.group)))\n",
    "#mean of group size\n",
    "group_size_node = temp.drop_duplicates(subset=['group'])\n",
    "\n",
    "print('mean of group size = ', np.mean(group_size_node.groupSize))\n",
    "print('percentage of grouped jobs = ', (len(temp)/len(DAG))*100)"
   ]
  },
  {
   "cell_type": "code",
   "execution_count": 46,
   "metadata": {},
   "outputs": [
    {
     "name": "stdout",
     "output_type": "stream",
     "text": [
      "#jobs that are in 15 min. periods =  97233\n"
     ]
    },
    {
     "data": {
      "text/plain": [
       "42.221797638639806"
      ]
     },
     "execution_count": 46,
     "metadata": {},
     "output_type": "execute_result"
    }
   ],
   "source": [
    "print('#jobs that are in 15 min. periods = ', len(temp[temp.IfMins == 1]))\n",
    "(len(temp[temp.IfMins == 1]) / len(temp)) * 100"
   ]
  },
  {
   "cell_type": "code",
   "execution_count": 47,
   "metadata": {},
   "outputs": [
    {
     "name": "stdout",
     "output_type": "stream",
     "text": [
      "#jobs that are in hourly periods =  115879\n"
     ]
    },
    {
     "data": {
      "text/plain": [
       "50.31851005901229"
      ]
     },
     "execution_count": 47,
     "metadata": {},
     "output_type": "execute_result"
    }
   ],
   "source": [
    "print('#jobs that are in hourly periods = ', len(temp[temp.IfHours == 1]))\n",
    "(len(temp[temp.IfHours == 1]) / len(temp)) * 100"
   ]
  },
  {
   "cell_type": "code",
   "execution_count": 48,
   "metadata": {},
   "outputs": [
    {
     "name": "stdout",
     "output_type": "stream",
     "text": [
      "#jobs that are in 15 daily periods =  139445\n"
     ]
    },
    {
     "data": {
      "text/plain": [
       "60.55164986907868"
      ]
     },
     "execution_count": 48,
     "metadata": {},
     "output_type": "execute_result"
    }
   ],
   "source": [
    "print('#jobs that are in 15 daily periods = ', len(temp[temp.IfDays == 1]))\n",
    "(len(temp[temp.IfDays == 1]) / len(temp)) * 100"
   ]
  },
  {
   "cell_type": "code",
   "execution_count": 49,
   "metadata": {},
   "outputs": [],
   "source": [
    "group_size_node = temp.drop_duplicates(subset=['group'])"
   ]
  },
  {
   "cell_type": "code",
   "execution_count": 50,
   "metadata": {},
   "outputs": [
    {
     "data": {
      "text/html": [
       "<div>\n",
       "<style scoped>\n",
       "    .dataframe tbody tr th:only-of-type {\n",
       "        vertical-align: middle;\n",
       "    }\n",
       "\n",
       "    .dataframe tbody tr th {\n",
       "        vertical-align: top;\n",
       "    }\n",
       "\n",
       "    .dataframe thead th {\n",
       "        text-align: right;\n",
       "    }\n",
       "</style>\n",
       "<table border=\"1\" class=\"dataframe\">\n",
       "  <thead>\n",
       "    <tr style=\"text-align: right;\">\n",
       "      <th></th>\n",
       "      <th>Unnamed: 0</th>\n",
       "      <th>job_name</th>\n",
       "      <th>DAGs</th>\n",
       "      <th>totalStart</th>\n",
       "      <th>totalEnd</th>\n",
       "      <th>run_time</th>\n",
       "      <th>nNodes</th>\n",
       "      <th>IfMins</th>\n",
       "      <th>IfHours</th>\n",
       "      <th>IfDays</th>\n",
       "      <th>mutable</th>\n",
       "      <th>group</th>\n",
       "      <th>groupSize</th>\n",
       "    </tr>\n",
       "  </thead>\n",
       "  <tbody>\n",
       "    <tr>\n",
       "      <th>35709</th>\n",
       "      <td>1728592</td>\n",
       "      <td>j_1795856</td>\n",
       "      <td>5,14-§-5-§-13,3,6,10,1-§-3,8,13-§-7-§-9-§-12,9...</td>\n",
       "      <td>206206</td>\n",
       "      <td>206234</td>\n",
       "      <td>28</td>\n",
       "      <td>16</td>\n",
       "      <td>True</td>\n",
       "      <td>True</td>\n",
       "      <td>True</td>\n",
       "      <td>False</td>\n",
       "      <td>35709</td>\n",
       "      <td>2</td>\n",
       "    </tr>\n",
       "    <tr>\n",
       "      <th>59925</th>\n",
       "      <td>2890011</td>\n",
       "      <td>j_3004871</td>\n",
       "      <td>14-§-3-§-4-§-5-§-6-§-7-§-8-§-9-§-10-§-11-§-13,...</td>\n",
       "      <td>669965</td>\n",
       "      <td>669970</td>\n",
       "      <td>5</td>\n",
       "      <td>16</td>\n",
       "      <td>True</td>\n",
       "      <td>False</td>\n",
       "      <td>True</td>\n",
       "      <td>False</td>\n",
       "      <td>22972</td>\n",
       "      <td>2</td>\n",
       "    </tr>\n",
       "    <tr>\n",
       "      <th>59942</th>\n",
       "      <td>2890967</td>\n",
       "      <td>j_3005999</td>\n",
       "      <td>3-§-9-§-11-§-13,22-§-20-§-21,13-§-7-§-16-§-24,...</td>\n",
       "      <td>296689</td>\n",
       "      <td>296778</td>\n",
       "      <td>89</td>\n",
       "      <td>26</td>\n",
       "      <td>True</td>\n",
       "      <td>True</td>\n",
       "      <td>True</td>\n",
       "      <td>False</td>\n",
       "      <td>59942</td>\n",
       "      <td>2</td>\n",
       "    </tr>\n",
       "    <tr>\n",
       "      <th>59994</th>\n",
       "      <td>2894073</td>\n",
       "      <td>j_3009389</td>\n",
       "      <td>3,12,9-§-8,4-§-3,10-§-5-§-9,7-§-2-§-6,8-§-7,5-...</td>\n",
       "      <td>563973</td>\n",
       "      <td>564327</td>\n",
       "      <td>354</td>\n",
       "      <td>14</td>\n",
       "      <td>True</td>\n",
       "      <td>True</td>\n",
       "      <td>True</td>\n",
       "      <td>False</td>\n",
       "      <td>59994</td>\n",
       "      <td>2</td>\n",
       "    </tr>\n",
       "    <tr>\n",
       "      <th>60012</th>\n",
       "      <td>2895173</td>\n",
       "      <td>j_3010586</td>\n",
       "      <td>11-§-10,14-§-13,7-§-11,3-§-11,16-§-1-§-2-§-3-§...</td>\n",
       "      <td>440444</td>\n",
       "      <td>440588</td>\n",
       "      <td>144</td>\n",
       "      <td>18</td>\n",
       "      <td>True</td>\n",
       "      <td>True</td>\n",
       "      <td>True</td>\n",
       "      <td>False</td>\n",
       "      <td>60012</td>\n",
       "      <td>2</td>\n",
       "    </tr>\n",
       "    <tr>\n",
       "      <th>...</th>\n",
       "      <td>...</td>\n",
       "      <td>...</td>\n",
       "      <td>...</td>\n",
       "      <td>...</td>\n",
       "      <td>...</td>\n",
       "      <td>...</td>\n",
       "      <td>...</td>\n",
       "      <td>...</td>\n",
       "      <td>...</td>\n",
       "      <td>...</td>\n",
       "      <td>...</td>\n",
       "      <td>...</td>\n",
       "      <td>...</td>\n",
       "    </tr>\n",
       "    <tr>\n",
       "      <th>18</th>\n",
       "      <td>792</td>\n",
       "      <td>j_815</td>\n",
       "      <td>3-§-2,9-§-8,10-§-9,5-§-4,4-§-1,2-§-1,1,6-§-1,8...</td>\n",
       "      <td>652447</td>\n",
       "      <td>652449</td>\n",
       "      <td>2</td>\n",
       "      <td>10</td>\n",
       "      <td>True</td>\n",
       "      <td>True</td>\n",
       "      <td>True</td>\n",
       "      <td>False</td>\n",
       "      <td>18</td>\n",
       "      <td>553</td>\n",
       "    </tr>\n",
       "    <tr>\n",
       "      <th>221</th>\n",
       "      <td>10477</td>\n",
       "      <td>j_10708</td>\n",
       "      <td>2-§-1,5-§-4,10-§-9,3-§-2,8,4-§-3,9-§-8,6-§-5,1...</td>\n",
       "      <td>496089</td>\n",
       "      <td>496126</td>\n",
       "      <td>37</td>\n",
       "      <td>16</td>\n",
       "      <td>True</td>\n",
       "      <td>True</td>\n",
       "      <td>True</td>\n",
       "      <td>False</td>\n",
       "      <td>221</td>\n",
       "      <td>565</td>\n",
       "    </tr>\n",
       "    <tr>\n",
       "      <th>171</th>\n",
       "      <td>8176</td>\n",
       "      <td>j_8584</td>\n",
       "      <td>2-§-1,12-§-11,13-§-12,3-§-2,10,5,9-§-2-§-4-§-5...</td>\n",
       "      <td>214572</td>\n",
       "      <td>214576</td>\n",
       "      <td>4</td>\n",
       "      <td>13</td>\n",
       "      <td>True</td>\n",
       "      <td>True</td>\n",
       "      <td>True</td>\n",
       "      <td>False</td>\n",
       "      <td>171</td>\n",
       "      <td>662</td>\n",
       "    </tr>\n",
       "    <tr>\n",
       "      <th>21</th>\n",
       "      <td>865</td>\n",
       "      <td>j_897</td>\n",
       "      <td>10,2-§-1,7-§-6,4-§-3,1,6,5,11-§-7-§-9-§-10,9-§...</td>\n",
       "      <td>394843</td>\n",
       "      <td>395194</td>\n",
       "      <td>351</td>\n",
       "      <td>12</td>\n",
       "      <td>True</td>\n",
       "      <td>True</td>\n",
       "      <td>True</td>\n",
       "      <td>False</td>\n",
       "      <td>21</td>\n",
       "      <td>731</td>\n",
       "    </tr>\n",
       "    <tr>\n",
       "      <th>27</th>\n",
       "      <td>1107</td>\n",
       "      <td>j_1250</td>\n",
       "      <td>8-§-7,13-§-1-§-3-§-12,5-§-4,1-§-2,2,11-§-10,10...</td>\n",
       "      <td>88566</td>\n",
       "      <td>88583</td>\n",
       "      <td>17</td>\n",
       "      <td>17</td>\n",
       "      <td>True</td>\n",
       "      <td>True</td>\n",
       "      <td>True</td>\n",
       "      <td>False</td>\n",
       "      <td>27</td>\n",
       "      <td>1904</td>\n",
       "    </tr>\n",
       "  </tbody>\n",
       "</table>\n",
       "<p>26980 rows × 13 columns</p>\n",
       "</div>"
      ],
      "text/plain": [
       "       Unnamed: 0   job_name  \\\n",
       "35709     1728592  j_1795856   \n",
       "59925     2890011  j_3004871   \n",
       "59942     2890967  j_3005999   \n",
       "59994     2894073  j_3009389   \n",
       "60012     2895173  j_3010586   \n",
       "...           ...        ...   \n",
       "18            792      j_815   \n",
       "221         10477    j_10708   \n",
       "171          8176     j_8584   \n",
       "21            865      j_897   \n",
       "27           1107     j_1250   \n",
       "\n",
       "                                                    DAGs  totalStart  \\\n",
       "35709  5,14-§-5-§-13,3,6,10,1-§-3,8,13-§-7-§-9-§-12,9...      206206   \n",
       "59925  14-§-3-§-4-§-5-§-6-§-7-§-8-§-9-§-10-§-11-§-13,...      669965   \n",
       "59942  3-§-9-§-11-§-13,22-§-20-§-21,13-§-7-§-16-§-24,...      296689   \n",
       "59994  3,12,9-§-8,4-§-3,10-§-5-§-9,7-§-2-§-6,8-§-7,5-...      563973   \n",
       "60012  11-§-10,14-§-13,7-§-11,3-§-11,16-§-1-§-2-§-3-§...      440444   \n",
       "...                                                  ...         ...   \n",
       "18     3-§-2,9-§-8,10-§-9,5-§-4,4-§-1,2-§-1,1,6-§-1,8...      652447   \n",
       "221    2-§-1,5-§-4,10-§-9,3-§-2,8,4-§-3,9-§-8,6-§-5,1...      496089   \n",
       "171    2-§-1,12-§-11,13-§-12,3-§-2,10,5,9-§-2-§-4-§-5...      214572   \n",
       "21     10,2-§-1,7-§-6,4-§-3,1,6,5,11-§-7-§-9-§-10,9-§...      394843   \n",
       "27     8-§-7,13-§-1-§-3-§-12,5-§-4,1-§-2,2,11-§-10,10...       88566   \n",
       "\n",
       "       totalEnd  run_time  nNodes  IfMins  IfHours  IfDays  mutable  group  \\\n",
       "35709    206234        28      16    True     True    True    False  35709   \n",
       "59925    669970         5      16    True    False    True    False  22972   \n",
       "59942    296778        89      26    True     True    True    False  59942   \n",
       "59994    564327       354      14    True     True    True    False  59994   \n",
       "60012    440588       144      18    True     True    True    False  60012   \n",
       "...         ...       ...     ...     ...      ...     ...      ...    ...   \n",
       "18       652449         2      10    True     True    True    False     18   \n",
       "221      496126        37      16    True     True    True    False    221   \n",
       "171      214576         4      13    True     True    True    False    171   \n",
       "21       395194       351      12    True     True    True    False     21   \n",
       "27        88583        17      17    True     True    True    False     27   \n",
       "\n",
       "       groupSize  \n",
       "35709          2  \n",
       "59925          2  \n",
       "59942          2  \n",
       "59994          2  \n",
       "60012          2  \n",
       "...          ...  \n",
       "18           553  \n",
       "221          565  \n",
       "171          662  \n",
       "21           731  \n",
       "27          1904  \n",
       "\n",
       "[26980 rows x 13 columns]"
      ]
     },
     "execution_count": 50,
     "metadata": {},
     "output_type": "execute_result"
    }
   ],
   "source": [
    "group_size_node.sort_values(by = ['groupSize'])"
   ]
  },
  {
   "cell_type": "code",
   "execution_count": 51,
   "metadata": {},
   "outputs": [],
   "source": [
    "X = list (set(group_size_node.groupSize))\n",
    "Y = []\n",
    "for i in X:\n",
    "    tempdf = group_size_node[group_size_node.groupSize == i]\n",
    "    Y.append(np.mean(tempdf.nNodes))"
   ]
  },
  {
   "cell_type": "code",
   "execution_count": 52,
   "metadata": {},
   "outputs": [
    {
     "data": {
      "image/png": "[encoded data removed]",
      "text/plain": [
       "<Figure size 432x288 with 1 Axes>"
      ]
     },
     "metadata": {
      "needs_background": "light"
     },
     "output_type": "display_data"
    }
   ],
   "source": [
    "\n",
    "\n",
    "# use the scatterplot function to build the bubble map\n",
    "sns.scatterplot(x=Y,y=Y, legend=False, sizes=(20, 2000))\n",
    "\n",
    "# show the graph\n",
    "plt.show()"
   ]
  },
  {
   "cell_type": "code",
   "execution_count": 53,
   "metadata": {},
   "outputs": [
    {
     "data": {
      "text/plain": [
       "(array([[27., 61., 56., 13.,  7.,  1.,  1.,  0.,  0.,  1.],\n",
       "        [20.,  8.,  4.,  2.,  1.,  1.,  1.,  0.,  0.,  0.],\n",
       "        [ 2.,  0.,  1.,  0.,  1.,  0.,  0.,  0.,  0.,  0.],\n",
       "        [ 1.,  1.,  0.,  0.,  0.,  0.,  0.,  0.,  0.,  0.],\n",
       "        [ 0.,  0.,  0.,  0.,  0.,  0.,  0.,  0.,  0.,  0.],\n",
       "        [ 0.,  0.,  0.,  0.,  0.,  0.,  0.,  0.,  0.,  0.],\n",
       "        [ 0.,  0.,  0.,  0.,  0.,  0.,  0.,  0.,  0.,  0.],\n",
       "        [ 0.,  0.,  0.,  0.,  0.,  0.,  0.,  0.,  0.,  0.],\n",
       "        [ 0.,  0.,  0.,  0.,  0.,  0.,  0.,  0.,  0.,  0.],\n",
       "        [ 0.,  0.,  1.,  0.,  0.,  0.,  0.,  0.,  0.,  0.]]),\n",
       " array([   2. ,  192.2,  382.4,  572.6,  762.8,  953. , 1143.2, 1333.4,\n",
       "        1523.6, 1713.8, 1904. ]),\n",
       " array([10. , 12.6, 15.2, 17.8, 20.4, 23. , 25.6, 28.2, 30.8, 33.4, 36. ]),\n",
       " <matplotlib.collections.QuadMesh at 0x7fd3b3adc550>)"
      ]
     },
     "execution_count": 53,
     "metadata": {},
     "output_type": "execute_result"
    },
    {
     "data": {
      "image/png": "[encoded data removed]",
      "text/plain": [
       "<Figure size 432x288 with 1 Axes>"
      ]
     },
     "metadata": {
      "needs_background": "light"
     },
     "output_type": "display_data"
    }
   ],
   "source": [
    "plt.hist2d(X, Y)"
   ]
  },
  {
   "cell_type": "code",
   "execution_count": 54,
   "metadata": {},
   "outputs": [
    {
     "data": {
      "image/png": "[encoded data removed]",
      "text/plain": [
       "<Figure size 432x432 with 3 Axes>"
      ]
     },
     "metadata": {
      "needs_background": "light"
     },
     "output_type": "display_data"
    }
   ],
   "source": [
    "sns.jointplot(x=X, y=Y)\n",
    "\n",
    "plt.show()"
   ]
  },
  {
   "cell_type": "code",
   "execution_count": 55,
   "metadata": {},
   "outputs": [],
   "source": [
    "names = ['10-14', '15-19', '20-24', '25-29', '30-34','35-39','40-44','45-49','50-54','55-59','60-64',\n",
    "         '65-69','70-74','75-79','80-84','85-89','90-94','95+']\n",
    "d = dict(enumerate(names, 1))"
   ]
  },
  {
   "cell_type": "code",
   "execution_count": 59,
   "metadata": {},
   "outputs": [
    {
     "name": "stderr",
     "output_type": "stream",
     "text": [
      "/home/alireza.alamgiralem/.local/lib/python3.7/site-packages/ipykernel_launcher.py:2: SettingWithCopyWarning: \n",
      "A value is trying to be set on a copy of a slice from a DataFrame.\n",
      "Try using .loc[row_indexer,col_indexer] = value instead\n",
      "\n",
      "See the caveats in the documentation: https://pandas.pydata.org/pandas-docs/stable/user_guide/indexing.html#returning-a-view-versus-a-copy\n",
      "  \n"
     ]
    }
   ],
   "source": [
    "bins = list(range(10,100,5))\n",
    "group_size_node['node__number_range'] = np.vectorize(d.get)(np.digitize(group_size_node['nNodes'], bins))"
   ]
  },
  {
   "cell_type": "code",
   "execution_count": 60,
   "metadata": {},
   "outputs": [],
   "source": [
    "groupSizeAVG = []\n",
    "for cat in names:\n",
    "    temp = group_size_node[ group_size_node['node__number_range'] == cat]\n",
    "    groupSizeAVG.append(np.mean(temp.groupSize))"
   ]
  },
  {
   "cell_type": "code",
   "execution_count": 61,
   "metadata": {},
   "outputs": [
    {
     "data": {
      "text/plain": [
       "[9.151964520823228,\n",
       " 8.366130268199234,\n",
       " 7.682856107285248,\n",
       " 7.623385452073419,\n",
       " 8.160766961651918,\n",
       " 5.86551724137931,\n",
       " 4.453333333333333,\n",
       " 5.243654822335025,\n",
       " 4.714285714285714,\n",
       " 4.737704918032787,\n",
       " 7.186046511627907,\n",
       " 3.7241379310344827,\n",
       " 2.95,\n",
       " 4.290322580645161,\n",
       " 4.090909090909091,\n",
       " 10.0,\n",
       " 6.074074074074074,\n",
       " 3.3225806451612905]"
      ]
     },
     "execution_count": 61,
     "metadata": {},
     "output_type": "execute_result"
    }
   ],
   "source": [
    "groupSizeAVG"
   ]
  },
  {
   "cell_type": "code",
   "execution_count": 63,
   "metadata": {},
   "outputs": [
    {
     "data": {
      "image/png": "[encoded data removed]",
      "text/plain": [
       "<Figure size 432x288 with 1 Axes>"
      ]
     },
     "metadata": {
      "needs_background": "light"
     },
     "output_type": "display_data"
    }
   ],
   "source": [
    "fig, ax = plt.subplots()\n",
    "\n",
    "# Save the chart so we can loop through the bars below.\n",
    "bars = ax.bar(\n",
    "    x=names,\n",
    "    height=groupSizeAVG,\n",
    "    tick_label=names\n",
    ")\n",
    "\n",
    "# Axis formatting.\n",
    "ax.spines['top'].set_visible(False)\n",
    "ax.spines['right'].set_visible(False)\n",
    "ax.spines['left'].set_visible(False)\n",
    "ax.spines['bottom'].set_color('#DDDDDD')\n",
    "ax.tick_params(bottom=False, left=False)\n",
    "ax.set_axisbelow(True)\n",
    "ax.yaxis.grid(True, color='#EEEEEE')\n",
    "ax.xaxis.grid(False)\n",
    "\n",
    "# Add text annotations to the top of the bars.\n",
    "bar_color = bars[0].get_facecolor()\n",
    "for bar in bars:\n",
    "  ax.text(\n",
    "      bar.get_x() + bar.get_width() / 2,\n",
    "      bar.get_height() + 0.3,\n",
    "      round(bar.get_height(), 1),\n",
    "      horizontalalignment='center',\n",
    "      color=bar_color,\n",
    "      weight='bold'\n",
    "  )\n",
    "\n",
    "# Add labels and a title. Note the use of `labelpad` and `pad` to add some\n",
    "# extra space between the text and the tick labels.\n",
    "ax.set_xlabel('Categorized node number', labelpad=15, color='#333333')\n",
    "ax.set_ylabel('Average size of groups', labelpad=15, color='#333333')\n",
    "ax.set_xticklabels(names, rotation=45)\n",
    "\n",
    "\n",
    "fig.tight_layout()\n",
    "\n",
    "#fig.savefig(\"graphs/Barplot_nodeNumber_AvgSizeGroup_ruleBased.pdf\", bbox_inches='tight')"
   ]
  }
 ],
 "metadata": {
  "kernelspec": {
   "display_name": "Python 3",
   "language": "python",
   "name": "python3"
  },
  "language_info": {
   "codemirror_mode": {
    "name": "ipython",
    "version": 3
   },
   "file_extension": ".py",
   "mimetype": "text/x-python",
   "name": "python",
   "nbconvert_exporter": "python",
   "pygments_lexer": "ipython3",
   "version": "3.7.7"
  }
 },
 "nbformat": 4,
 "nbformat_minor": 4
}
