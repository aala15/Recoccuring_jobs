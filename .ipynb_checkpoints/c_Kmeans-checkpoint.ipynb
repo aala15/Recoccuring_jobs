{
 "cells": [
  {
   "cell_type": "code",
   "execution_count": 1,
   "metadata": {},
   "outputs": [],
   "source": [
    "import pandas as pd\n",
    "import numpy as np\n",
    "import matplotlib.pyplot as plt\n",
    "from sklearn.cluster import KMeans, MiniBatchKMeans\n",
    "from sklearn.metrics.cluster import adjusted_rand_score, adjusted_mutual_info_score\n",
    "from sklearn.preprocessing import StandardScaler\n",
    "from sklearn.preprocessing import normalize\n",
    "from pytictoc import TicToc\n",
    "from sklearn.model_selection import train_test_split\n",
    "from sklearn import datasets, linear_model\n",
    "from sklearn.metrics import mean_squared_error, r2_score, mean_absolute_error\n",
    "from pandas import DataFrame"
   ]
  },
  {
   "cell_type": "raw",
   "metadata": {},
   "source": [
    "K-Means\n",
    "input: ruleBased_DAGs, aggFeatures, vectorDF, embed64\n",
    "output: statistics over performance of k-means\n",
    "\n",
    "\n",
    "runtime: a couple of hours (depends on selection of subset of data)\n",
    "Generating K-means on multiple subsets of the dataset.\n",
    "Notes: \n",
    "(1)the masks are already written. To reproduce the results, uncomment the mask and run the rest of the code.\n",
    "\n",
    "(2)the elbow method for the first musk is performed. Due to intensive runtime, it was not feasible to select appropriate k for the whole dataset through the elbow method. \n"
   ]
  },
  {
   "cell_type": "code",
   "execution_count": 26,
   "metadata": {},
   "outputs": [],
   "source": [
    "time = TicToc()"
   ]
  },
  {
   "cell_type": "code",
   "execution_count": 27,
   "metadata": {},
   "outputs": [],
   "source": [
    "DAG = pd.read_csv(\"data/ruleBased_DAGs.csv\",sep =',')\n",
    "features = pd.read_csv(\"data/aggFeatures.csv\",sep =',')\n",
    "y_vector_df = pd.read_csv(\"data/vectorDF.csv\")\n",
    "embedDf64 = pd.read_csv(\"data/model_C_TripletMarginLoss2_distanceCosineSimilarity_11Ys_70Epochs_train_test_stratified_globalavg64.csv\")"
   ]
  },
  {
   "cell_type": "code",
   "execution_count": 28,
   "metadata": {},
   "outputs": [],
   "source": [
    "DAGs = pd.merge(DAG, features, how='inner', on = 'job_name')\n",
    "DAGs = DAGs.drop('Unnamed: 0', axis=1)"
   ]
  },
  {
   "cell_type": "code",
   "execution_count": 56,
   "metadata": {},
   "outputs": [
    {
     "data": {
      "text/plain": [
       "26307"
      ]
     },
     "execution_count": 56,
     "metadata": {},
     "output_type": "execute_result"
    }
   ],
   "source": [
    "##Generating multipe subsets of dataset###\n",
    "\n",
    "targetTable = pd.merge(DAGs, embedDf64, on = 'job_name')\n",
    "targetTable = pd.merge(targetTable, y_vector_df, on = 'job_name')\n",
    "\n",
    "#splitting the data\n",
    "#numNodes\n",
    "m = (targetTable.nNodes > 45) &  (targetTable.nNodes <= 50)\n",
    "#m = targetTable.nNodes == 20\n",
    "#m = targetTable.nNodes == 15\n",
    "\n",
    "#avgInsNum\n",
    "#m = (targetTable.avgInsNum > 4) &  (targetTable.avgInsNum <= 5)\n",
    "#m = (targetTable.avgInsNum > 1) &  (targetTable.avgInsNum <= 1.5)\n",
    "#m = (targetTable.avgInsNum > 2) &  (targetTable.avgInsNum <= 3)\n",
    "\n",
    "#avgShorPath\n",
    "#m = (targetTable.avgShorPath > 1.25) &  (targetTable.avgShorPath <= 1.5)\n",
    "#m = (targetTable.avgShorPath > 2) &  (targetTable.avgShorPath <= 3.5)\n",
    "#m = (targetTable.avgShorPath > 1) &  (targetTable.avgShorPath <= 1.25)\n",
    "\n",
    "#avgPlanMem\n",
    "\n",
    "#m = (targetTable.avgPlanMem > 0) &  (targetTable.avgPlanMem <= 0.22)\n",
    "#m = (targetTable.avgPlanMem > 0.25) &  (targetTable.avgPlanMem <= 0.30)\n",
    "#m = targetTable.avgPlanMem > 0.45\n",
    "\n",
    "\n",
    "#avgPlanCpu\n",
    "#m = (targetTable.avgPlanCpu > 60) &  (targetTable.avgPlanCpu <= 100)\n",
    "\n",
    "targetTable = targetTable[m]\n",
    "\n",
    "#target embedding\n",
    "len(targetTable)"
   ]
  },
  {
   "cell_type": "code",
   "execution_count": 48,
   "metadata": {},
   "outputs": [],
   "source": [
    "m2 = embedDf64.job_name.isin(targetTable.job_name)\n",
    "target_embed = embedDf64[m2]\n",
    "target_embed = target_embed.iloc[:,0:64]\n",
    "scaler = StandardScaler()\n",
    "DF_scaled_avg64 = scaler.fit_transform(target_embed)\n",
    "target_embed = normalize(target_embed)"
   ]
  },
  {
   "cell_type": "code",
   "execution_count": 49,
   "metadata": {},
   "outputs": [
    {
     "name": "stdout",
     "output_type": "stream",
     "text": [
      "Elapsed time is 3.601206 seconds.\n"
     ]
    }
   ],
   "source": [
    "#generating k-means model (runtime depends on the size of the mask)\n",
    "cluster_size = len(targetTable.group.unique())\n",
    "time.tic()\n",
    "km = KMeans(n_clusters = cluster_size)\n",
    "km.fit(target_embed)\n",
    "time.toc()"
   ]
  },
  {
   "cell_type": "code",
   "execution_count": 50,
   "metadata": {},
   "outputs": [],
   "source": [
    "target_embed = embedDf64[m2]\n",
    "labels = list(km.labels_)\n",
    "target_embed = target_embed.assign(kmean_lables = labels)\n",
    "targetTable = pd.merge(targetTable, target_embed, on = 'job_name')"
   ]
  },
  {
   "cell_type": "code",
   "execution_count": 51,
   "metadata": {},
   "outputs": [],
   "source": [
    "targetTable['lableSize_kmean'] = targetTable.groupby('kmean_lables')['kmean_lables'].transform('size')\n",
    "targetTable['lableSize_group'] = targetTable.groupby('group')['group'].transform('size')\n",
    "ad_rand_score = adjusted_rand_score(targetTable.kmean_lables, targetTable.group)"
   ]
  },
  {
   "cell_type": "code",
   "execution_count": 55,
   "metadata": {},
   "outputs": [
    {
     "name": "stdout",
     "output_type": "stream",
     "text": [
      "length =  1198\n",
      "group ums =  335\n",
      "Baseline (rule_based)\n",
      "mean size of groups (rule) =  13.731218697829716\n",
      "var by previous groups =  60114.877827316\n",
      "MAX =  58\n",
      "kmeans\n",
      "mean size of groups (k-mean) =  13.796327212020033\n",
      "var by kmean = 24438.866631988003\n",
      "MAX =  57\n",
      "rand score = 0.08282357960530347\n"
     ]
    }
   ],
   "source": [
    "print(\"length = \",len(targetTable))\n",
    "\n",
    "set_lables = list(targetTable.kmean_lables.unique())\n",
    "set_group = list(targetTable.group.unique())\n",
    "\n",
    "print(\"group ums = \",len(set_group))\n",
    "print('Baseline (rule_based)')\n",
    "\n",
    "print('mean size of groups (rule) = ',np.mean(targetTable['lableSize_group']))\n",
    "var_by_group = list()\n",
    "for i in set_group:\n",
    "    df = targetTable[(targetTable.group == i) & (targetTable.lableSize_group >= 2)]\n",
    "    var_by_group.append(np.var(df.run_time))   \n",
    "print('var by previous groups = ',np.nanmean(var_by_group))\n",
    "print('MAX = ', max(targetTable['lableSize_group']))\n",
    "\n",
    "\n",
    "print('kmeans')\n",
    "print('mean size of groups (k-mean) = ',np.mean(targetTable['lableSize_kmean']))\n",
    "var_by_keman = list()\n",
    "for i in set_lables:\n",
    "    df = targetTable[targetTable.kmean_lables == i]\n",
    "    var_by_keman.append(np.var(df.run_time))   \n",
    "print('var by kmean =',np.mean(var_by_keman))\n",
    "print('MAX = ', max(targetTable['lableSize_kmean']))\n",
    "\n",
    "\n",
    "print('rand score =', ad_rand_score)"
   ]
  },
  {
   "cell_type": "code",
   "execution_count": 57,
   "metadata": {},
   "outputs": [
    {
     "data": {
      "image/png": "[encoded data removed]",
      "text/plain": [
       "<Figure size 432x288 with 1 Axes>"
      ]
     },
     "metadata": {
      "needs_background": "light"
     },
     "output_type": "display_data"
    }
   ],
   "source": [
    "## Elbow method ###\n",
    "m2 = embedDf64.job_name.isin(targetTable.job_name)\n",
    "target_embed = embedDf64[m2]\n",
    "target_embed = target_embed.iloc[:,0:64]\n",
    "scaler = StandardScaler()\n",
    "DF_scaled_avg64 = scaler.fit_transform(target_embed)\n",
    "target_embed = normalize(target_embed)\n",
    "##detection of best k for k-means\n",
    "K = range(500,3000, 10)\n",
    "sum_of_squared_distances = []\n",
    "for k in K:\n",
    "    model = KMeans(n_clusters=k).fit(target_embed)\n",
    "    sum_of_squared_distances.append(model.inertia_)\n",
    "plt.plot(K, sum_of_squared_distances, 'bx-')\n",
    "plt.xlabel('K values')\n",
    "plt.ylabel('Sum of Squared Distances')\n",
    "plt.title('Elbow Method')\n",
    "plt.show()"
   ]
  },
  {
   "cell_type": "code",
   "execution_count": null,
   "metadata": {},
   "outputs": [],
   "source": []
  }
 ],
 "metadata": {
  "kernelspec": {
   "display_name": "Python 3",
   "language": "python",
   "name": "python3"
  },
  "language_info": {
   "codemirror_mode": {
    "name": "ipython",
    "version": 3
   },
   "file_extension": ".py",
   "mimetype": "text/x-python",
   "name": "python",
   "nbconvert_exporter": "python",
   "pygments_lexer": "ipython3",
   "version": "3.7.7"
  }
 },
 "nbformat": 4,
 "nbformat_minor": 4
}
