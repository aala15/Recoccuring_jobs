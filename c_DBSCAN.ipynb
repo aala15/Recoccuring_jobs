{
 "cells": [
  {
   "cell_type": "code",
   "execution_count": 1,
   "metadata": {},
   "outputs": [],
   "source": [
    "import pandas as pd\n",
    "from functools import reduce\n",
    "import itertools\n",
    "from itertools import chain\n",
    "import pickle\n",
    "import torch\n",
    "from sklearn.cluster import DBSCAN, OPTICS\n",
    "from sklearn.metrics.cluster import adjusted_rand_score, adjusted_mutual_info_score\n",
    "from sklearn.preprocessing import StandardScaler\n",
    "from sklearn.preprocessing import normalize\n",
    "from sklearn.decomposition import PCA\n",
    "import numpy as np\n",
    "import regex as re\n",
    "import igraph\n",
    "import sys\n",
    "from pytictoc import TicToc\n",
    "import statistics\n",
    "import matplotlib.pyplot as plt\n",
    "import datetime\n",
    "from sklearn.model_selection import train_test_split\n",
    "import seaborn as sns\n",
    "from sklearn import datasets, linear_model\n",
    "from sklearn.metrics import mean_squared_error, r2_score, mean_absolute_error\n",
    "from pandas import DataFrame"
   ]
  },
  {
   "cell_type": "raw",
   "metadata": {},
   "source": [
    "DBSCAN\n",
    "input: ruleBased_DAGs, aggFeatures, vectorDF and the AVG embeddings \n",
    "output: runtime prediction\n",
    "\n",
    "runtime: ca. 1-2 hours (parameter seelction part is the most time-consuming part)\n",
    "This script analyses the data and search for optimal value of radius and MnPts,\n",
    "then apply the clustering using these parameters and apply the prediction. The final part, make a comparison between predictions of baseline with DBSCAN\n"
   ]
  },
  {
   "cell_type": "code",
   "execution_count": 3,
   "metadata": {},
   "outputs": [],
   "source": [
    "DAG = pd.read_csv(\"data/ruleBased_DAGs.csv\",sep =',')\n",
    "features = pd.read_csv(\"data/aggFeatures.csv\",sep =',')\n",
    "y_vector_df = pd.read_csv(\"data/vectorDF.csv\")\n",
    "embedDf64 = pd.read_csv(\"data/model_C_TripletMarginLoss2_distanceCosineSimilarity_11Ys_70Epochs_train_test_stratified_globalavg64.csv\")"
   ]
  },
  {
   "cell_type": "code",
   "execution_count": 24,
   "metadata": {},
   "outputs": [
    {
     "data": {
      "text/plain": [
       "83.21216955610686"
      ]
     },
     "execution_count": 24,
     "metadata": {},
     "output_type": "execute_result"
    }
   ],
   "source": [
    "psutil.virtual_memory().available * 100 / psutil.virtual_memory().total"
   ]
  },
  {
   "cell_type": "code",
   "execution_count": 4,
   "metadata": {},
   "outputs": [],
   "source": [
    "DAGs = pd.merge(DAG, features, how='inner', on = 'job_name')\n",
    "DAGs = DAGs.drop('Unnamed: 0', axis=1)\n",
    "embedDf64 = embedDf64.drop('Unnamed: 0', axis=1)"
   ]
  },
  {
   "cell_type": "code",
   "execution_count": 26,
   "metadata": {
    "scrolled": true
   },
   "outputs": [
    {
     "name": "stdout",
     "output_type": "stream",
     "text": [
      "number of groups for  1e-10 =  1101\n",
      "mem = 79.5750608014324\n",
      "number of groups for  3.1622776601683795e-10 =  1103\n",
      "mem = 79.4948297437924\n",
      "number of groups for  1e-09 =  1120\n",
      "mem = 79.34202726733847\n",
      "number of groups for  3.1622776601683795e-09 =  1272\n",
      "mem = 79.4678746453758\n",
      "number of groups for  1e-08 =  2127\n",
      "mem = 79.47797365962418\n",
      "number of groups for  3.162277660168379e-08 =  4900\n",
      "mem = 79.21293551998946\n",
      "number of groups for  1e-07 =  10429\n",
      "mem = 79.11889759745915\n",
      "number of groups for  3.162277660168379e-07 =  11699\n",
      "mem = 78.46463271543954\n",
      "number of groups for  1e-06 =  12243\n",
      "mem = 77.82671164874945\n",
      "number of groups for  3.162277660168379e-06 =  12277\n",
      "mem = 77.8127584213338\n",
      "number of groups for  1e-05 =  12329\n",
      "mem = 77.80822118304829\n",
      "number of groups for  3.1622776601683795e-05 =  12450\n",
      "mem = 77.79082843628717\n",
      "number of groups for  0.0001 =  12669\n",
      "mem = 77.78187592848727\n",
      "number of groups for  0.00031622776601683794 =  13045\n",
      "mem = 77.70479166514205\n",
      "number of groups for  0.001 =  13691\n",
      "mem = 77.55694112079543\n",
      "number of groups for  0.0031622776601683794 =  14466\n",
      "mem = 77.3374949078038\n",
      "number of groups for  0.01 =  14053\n",
      "mem = 77.02649893521263\n",
      "number of groups for  0.03162277660168379 =  12277\n",
      "mem = 75.86318519006393\n",
      "number of groups for  0.1 =  10637\n",
      "mem = 74.71736176669326\n",
      "number of groups for  0.31622776601683794 =  5165\n",
      "mem = 73.05453711631674\n"
     ]
    }
   ],
   "source": [
    "# Finding optimal parameter for DBSCAN (Xi)\n",
    "db_results = list()\n",
    "group_results = list()\n",
    "clustered_precentage = list()\n",
    "precentage_classified_by_group = list()\n",
    "x_i = [pow(10, i) for i in list(np.arange(-10,0,0.5))]\n",
    "min_size = 3\n",
    "for i in x_i:\n",
    "    targetTable = pd.merge(DAGs, embedDf64, on = 'job_name')\n",
    "    targetTable = pd.merge(targetTable, y_vector_df, on = 'job_name')\n",
    "    ###\n",
    "#    targetTable = pd.merge(DAGs, embedDf64, on = 'job_name')\n",
    " #   targetTable = pd.merge(targetTable, y_vector_df, on = 'job_name')\n",
    "#    m = (targetTable.nNodes == 20) & (targetTable.nNodes == 20)\n",
    "#    m = (targetTable.avgShorPath >= 1.75) & (targetTable.avgShorPath < 5)\n",
    "#    m = (targetTable.longPath == 1) & (targetTable.longPath == 1)\n",
    "    m = targetTable.longPath >= -10     \n",
    "    \n",
    "#    targetTable = targetTable[m]\n",
    "    \n",
    "    m2 = embedDf64.job_name.isin(targetTable.job_name)\n",
    "    target_embed = embedDf64[m2]\n",
    "    target_embed = target_embed.iloc[:,0:64]\n",
    "    scaler = StandardScaler()\n",
    "    DF_scaled_avg64 = scaler.fit_transform(target_embed)\n",
    "    target_embed = normalize(target_embed)\n",
    "\n",
    "    set_group = list(targetTable.group.unique())\n",
    "    targetTable['lableSize_group'] = targetTable.groupby('group')['group'].transform('size')\n",
    "    var_by_group = list()\n",
    "    for z in set_group:\n",
    "        df = targetTable[(targetTable.group == z) & (targetTable.lableSize_group >= min_size)]\n",
    "        var_by_group.append(np.var(df.run_time))   \n",
    "    group_results.append(np.nanmean(var_by_group))\n",
    "    \n",
    "    ####\n",
    "    db_model = DBSCAN(eps = i, min_samples = min_size).fit(target_embed)\n",
    "    ###\n",
    "    \n",
    "    \n",
    "    target_embed = embedDf64[m2]\n",
    "    labels = list(db_model.labels_)\n",
    "    target_embed = target_embed.assign(DBSCAN_lables = labels)\n",
    "    targetTable = pd.merge(targetTable, target_embed, on = 'job_name')\n",
    "    set_lables = list(targetTable.DBSCAN_lables.unique())\n",
    "    \n",
    "    \n",
    "\n",
    "    clustered_precentage.append(round(len(targetTable[targetTable.DBSCAN_lables != -1]) / len(targetTable),ndigits=3)*100)\n",
    "    precentage_classified_by_group.append(round(len(targetTable[targetTable.lableSize_group >= min_size]) / len(targetTable),ndigits=3)*100)\n",
    "    \n",
    " \n",
    "    var_by_dbscan = list()\n",
    "    print('number of groups for ',i, '= ', len(set_lables))\n",
    "    for j in set_lables:\n",
    "        df = targetTable[targetTable.DBSCAN_lables == j]\n",
    "        var_by_dbscan.append(np.var(df.run_time))   \n",
    "    db_results.append(np.mean(var_by_dbscan))\n",
    "    mem = psutil.virtual_memory().available * 100 / psutil.virtual_memory().total\n",
    "    print('mem =', mem )"
   ]
  },
  {
   "cell_type": "code",
   "execution_count": 48,
   "metadata": {},
   "outputs": [
    {
     "data": {
      "image/png": "[encoded data removed]",
      "text/plain": [
       "<Figure size 432x288 with 1 Axes>"
      ]
     },
     "metadata": {
      "needs_background": "light"
     },
     "output_type": "display_data"
    }
   ],
   "source": [
    "plt.plot(x_i, db_results, color='tab:cyan', linewidth=2, label=\"DBSCAN\")\n",
    "plt.plot(x_i, group_results, color='tab:orange', linewidth=2, linestyle='dashed', label=\"Baseline\")\n",
    "plt.xscale('log')\n",
    "plt.xlabel('Radius')\n",
    "plt.ylabel('Mean variance of runtime')\n",
    "\n",
    "\n",
    "plt.legend()\n",
    "plt.grid(axis = 'x')\n",
    "fig1 = plt.gcf()\n",
    "#fig1.savefig(\"graphs/Mean_variance_of_runtime_DBSCAN_radius.pdf\", bbox_inches='tight')\n",
    "plt.show()"
   ]
  },
  {
   "cell_type": "code",
   "execution_count": 49,
   "metadata": {},
   "outputs": [
    {
     "data": {
      "image/png": "[encoded data removed]",
      "text/plain": [
       "<Figure size 432x288 with 1 Axes>"
      ]
     },
     "metadata": {
      "needs_background": "light"
     },
     "output_type": "display_data"
    }
   ],
   "source": [
    "plt.plot(x_i, clustered_precentage, color='tab:cyan', linewidth=2, label=\"DBSCAN\")\n",
    "plt.plot(x_i, precentage_classified_by_group, color='tab:orange', linestyle='dashed', linewidth=2, label = \"Baseline\")\n",
    "plt.xscale('log')\n",
    "plt.xlabel('Radius')\n",
    "plt.ylabel('Proportion of clustered data (%)')\n",
    "plt.grid(axis = 'x')\n",
    "plt.legend()\n",
    "fig1 = plt.gcf()\n",
    "\n",
    "#fig1.savefig(\"graphs/Proportion_of_clustered_Data_DBSCAN_radius.pdf\", bbox_inches='tight')\n",
    "\n",
    "plt.show()"
   ]
  },
  {
   "cell_type": "code",
   "execution_count": 61,
   "metadata": {},
   "outputs": [
    {
     "name": "stdout",
     "output_type": "stream",
     "text": [
      "number of groups for  2 =  22279\n",
      "number of groups for  3 =  13045\n",
      "number of groups for  4 =  9654\n",
      "number of groups for  5 =  7657\n",
      "number of groups for  6 =  6056\n",
      "number of groups for  7 =  4840\n",
      "number of groups for  8 =  3060\n",
      "number of groups for  9 =  2688\n"
     ]
    }
   ],
   "source": [
    "# Finding an appropriate parameter for DBSCAN (MnPts)\n",
    "x_i = pow(10, -3.5)\n",
    "min_size = list(range(2,10))\n",
    "db_results_minpoints = list()\n",
    "group_results_minpoints = list()\n",
    "clustered_precentage_minpoints = list()\n",
    "precentage_classified_by_group_minpoints= list()\n",
    "\n",
    "for min_basket in min_size:\n",
    "\n",
    "    targetTable = pd.merge(DAGs, embedDf64, on = 'job_name')\n",
    "    targetTable = pd.merge(targetTable, y_vector_df, on = 'job_name')\n",
    "#    m = (targetTable.nNodes == 20) & (targetTable.nNodes == 20)\n",
    "#    m = (targetTable.avgShorPath >= 1.75) & (targetTable.avgShorPath < 5)\n",
    "#    m = (targetTable.longPath == 1) & (targetTable.longPath == 1)\n",
    "    m = targetTable.longPath >= -10     \n",
    "    \n",
    "    targetTable = targetTable[m]\n",
    "\n",
    "    m2 = embedDf64.job_name.isin(targetTable.job_name)\n",
    "    target_embed = embedDf64[m2]\n",
    "    target_embed = target_embed.iloc[:,0:64]\n",
    "    scaler = StandardScaler()\n",
    "    DF_scaled_avg64 = scaler.fit_transform(target_embed)\n",
    "    target_embed = normalize(target_embed)\n",
    "\n",
    "    set_group = list(targetTable.group.unique())\n",
    "    targetTable['lableSize_group'] = targetTable.groupby('group')['group'].transform('size')\n",
    "    var_by_group = list()\n",
    "    for z in set_group:\n",
    "        df = targetTable[(targetTable.group == z) & (targetTable.lableSize_group >= min_basket)]\n",
    "        var_by_group.append(np.var(df.run_time))   \n",
    "    group_results_minpoints.append(np.nanmean(var_by_group))\n",
    "    db_model = DBSCAN(eps = x_i, min_samples = min_basket).fit(target_embed) \n",
    "    \n",
    "    target_embed = embedDf64[m2]\n",
    "    labels = list(db_model.labels_)\n",
    "    target_embed = target_embed.assign(DBSCAN_lables = labels)\n",
    "    targetTable = pd.merge(targetTable, target_embed, on = 'job_name')\n",
    "    set_lables = list(targetTable.DBSCAN_lables.unique())\n",
    "    \n",
    "    \n",
    "\n",
    "    clustered_precentage_minpoints.append(round(len(targetTable[targetTable.DBSCAN_lables != -1]) / len(targetTable),ndigits=3)*100)\n",
    "    precentage_classified_by_group_minpoints.append(round(len(targetTable[targetTable.lableSize_group >= min_basket]) / len(targetTable),ndigits=3)*100)\n",
    "    \n",
    " \n",
    "    var_by_dbscan = list()\n",
    "    print('number of groups for ',min_basket, '= ', len(set_lables))\n",
    "    for j in set_lables:\n",
    "        df = targetTable[targetTable.DBSCAN_lables == j]\n",
    "        var_by_dbscan.append(np.var(df.run_time))   \n",
    "    db_results_minpoints.append(np.mean(var_by_dbscan))"
   ]
  },
  {
   "cell_type": "code",
   "execution_count": 62,
   "metadata": {},
   "outputs": [
    {
     "data": {
      "image/png": "[encoded data removed]",
      "text/plain": [
       "<Figure size 432x288 with 1 Axes>"
      ]
     },
     "metadata": {
      "needs_background": "light"
     },
     "output_type": "display_data"
    }
   ],
   "source": [
    "plt.plot(min_size, db_results_minpoints, color='tab:cyan', linewidth=2, label=\"DBSCAN\")\n",
    "plt.plot(min_size, group_results_minpoints, color='tab:orange', linewidth=2, linestyle='dashed', label=\"Baseline\")\n",
    "\n",
    "plt.xlabel('MnPts')\n",
    "plt.ylabel('Mean variance of runtime')\n",
    "\n",
    "\n",
    "plt.legend()\n",
    "plt.grid(axis = 'x')\n",
    "fig1 = plt.gcf()\n",
    "#fig1.savefig(\"graphs/MnPts_Mean_variance_of_runtime_DBSCAN.pdf\", bbox_inches='tight')\n",
    "plt.show()"
   ]
  },
  {
   "cell_type": "code",
   "execution_count": 63,
   "metadata": {},
   "outputs": [
    {
     "data": {
      "image/png": "[encoded data removed]",
      "text/plain": [
       "<Figure size 432x288 with 1 Axes>"
      ]
     },
     "metadata": {
      "needs_background": "light"
     },
     "output_type": "display_data"
    }
   ],
   "source": [
    "plt.plot(min_size, clustered_precentage_minpoints, color='tab:cyan', linewidth=2, label=\"DBSCAN\")\n",
    "plt.plot(min_size, precentage_classified_by_group_minpoints, color='tab:orange', linestyle='dashed', linewidth=2, label = \"Baseline\")\n",
    "\n",
    "plt.xlabel('MnPts')\n",
    "plt.ylabel('Proportion of clustered data (%)')\n",
    "plt.grid(axis = 'x')\n",
    "plt.legend()\n",
    "fig1 = plt.gcf()\n",
    "\n",
    "#fig1.savefig(\"graphs/MnPts_Proportion_of_clustered_Data_DBSCAN.pdf\", bbox_inches='tight')\n",
    "\n",
    "plt.show()"
   ]
  },
  {
   "cell_type": "code",
   "execution_count": 5,
   "metadata": {},
   "outputs": [],
   "source": [
    "######final prediction with DBSCAN\n",
    "x_i = pow(10, -3.5)\n",
    "min_size = 2\n",
    "group_results = list()\n",
    "###### Model Training with optimal values\n",
    "\n",
    "targetTable = pd.merge(DAGs, embedDf64, on = 'job_name')\n",
    "targetTable = pd.merge(targetTable, y_vector_df, on = 'job_name')\n",
    "#    m = (targetTable.nNodes == 20) & (targetTable.nNodes == 20)\n",
    "#    m = (targetTable.avgShorPath >= 1.75) & (targetTable.avgShorPath < 5)\n",
    "#    m = (targetTable.longPath == 1) & (targetTable.longPath == 1)\n",
    "m = targetTable.longPath >= -10     \n",
    "    \n",
    "targetTable = targetTable[m]\n",
    "\n",
    "m2 = embedDf64.job_name.isin(targetTable.job_name)\n",
    "target_embed = embedDf64[m2]\n",
    "target_embed = target_embed.iloc[:,0:64]\n",
    "scaler = StandardScaler()\n",
    "DF_scaled_avg64 = scaler.fit_transform(target_embed)\n",
    "target_embed = normalize(target_embed)\n",
    "\n",
    "set_group = list(targetTable.group.unique())\n",
    "targetTable['lableSize_group'] = targetTable.groupby('group')['group'].transform('size')\n",
    "var_by_group = list()\n",
    "for z in set_group:\n",
    "    df = targetTable[(targetTable.group == z) & (targetTable.lableSize_group >= min_size)]\n",
    "    var_by_group.append(np.var(df.run_time))   \n",
    "    group_results.append(np.nanmean(var_by_group))\n",
    "    ####\n",
    "    \n",
    "db_model = DBSCAN(eps = x_i, min_samples = min_size).fit(target_embed)\n",
    "\n",
    "    \n",
    "    \n",
    "target_embed = embedDf64[m2]\n",
    "labels = list(db_model.labels_)\n",
    "target_embed = target_embed.assign(DBSCAN_lables = labels)\n",
    "targetTable = pd.merge(targetTable, target_embed, on = 'job_name')\n",
    "targetTable['lableSize_dbscan'] = targetTable.groupby('DBSCAN_lables')['DBSCAN_lables'].transform('size')\n",
    "set_lables = list(targetTable.DBSCAN_lables.unique())"
   ]
  },
  {
   "cell_type": "code",
   "execution_count": 7,
   "metadata": {},
   "outputs": [
    {
     "name": "stdout",
     "output_type": "stream",
     "text": [
      "number of groups: 22278\n",
      "mean size of groups: 166.16064627035044\n",
      "outliers percentage: 0.2353989751255321\n",
      "rand score of similar groups: 0.36769690347557127\n",
      "var by DBSCAN =  17662.75408165541\n"
     ]
    }
   ],
   "source": [
    "groupList = list(set(targetTable[targetTable.DBSCAN_lables!=-1].DBSCAN_lables))\n",
    "print('number of groups:',len(groupList))\n",
    "\n",
    "mean_size_group = np.mean(targetTable[targetTable.DBSCAN_lables!=-1].lableSize_dbscan)\n",
    "print('mean size of groups:',np.mean(targetTable[targetTable.DBSCAN_lables!=-1]['lableSize_dbscan']))\n",
    "\n",
    "outlier_perc = len(targetTable[targetTable.DBSCAN_lables==-1]) / len (targetTable)\n",
    "print('outliers percentage:',outlier_perc)\n",
    "\n",
    "ad_rand_score = adjusted_rand_score(targetTable[targetTable.DBSCAN_lables!=-1].DBSCAN_lables, targetTable[targetTable.DBSCAN_lables!=-1].group)\n",
    "print('rand score of similar groups:',ad_rand_score)\n",
    "\n",
    "var_by_DBSCAN = list()\n",
    "for i in groupList:\n",
    "    df = targetTable[targetTable.DBSCAN_lables == i]\n",
    "    var_by_DBSCAN.append(np.var(df.run_time))   \n",
    "print('var by DBSCAN = ',np.mean(var_by_DBSCAN))"
   ]
  },
  {
   "cell_type": "code",
   "execution_count": 130,
   "metadata": {},
   "outputs": [],
   "source": [
    "final_X_train = final_X_test = final_y_train = final_Y_test = pd.DataFrame()\n",
    "Final_y_pred = job_list = list()\n",
    "\n",
    "targetTable['val'] = 1\n",
    "r2list = []\n",
    "msevallist = []\n",
    "maevallist = []\n",
    "\n",
    "final_X_train = final_X_test = final_y_train = final_Y_test = final_Y_real = pd.DataFrame()\n",
    "\n",
    "for gr in groupList:\n",
    "    temp = targetTable[targetTable.DBSCAN_lables==gr]\n",
    "    temp = temp.sort_values(\"totalStart\", ascending=True)\n",
    "    temp_job = list(temp.tail(1)['job_name'])\n",
    "\n",
    "\n",
    "    X_train, X_test, y_train, y_test = train_test_split(temp[['val']], temp[['run_time']], test_size=0.0001, shuffle=False)\n",
    "    regr = linear_model.LinearRegression()\n",
    "    regr.fit(X_train, y_train)\n",
    "    y_pred = regr.predict(X_test)\n",
    "    y_pred = list(y_pred.flatten())\n",
    "    \n",
    "    final_X_train = final_X_train.append(X_train)\n",
    "    final_X_test = final_X_test.append(X_test)\n",
    "    final_y_train = final_y_train.append(y_train)\n",
    "    final_Y_test = final_Y_test.append(y_test)\n",
    "\n",
    "    \n",
    "    Final_y_pred = [*Final_y_pred, *y_pred]\n",
    "    job_list = [*job_list, *temp_job]\n",
    "\n",
    "\n",
    "final_pred_DBSCAN = final_Y_test.assign(pred_DBSCAN = Final_y_pred, job_name = job_list)"
   ]
  },
  {
   "cell_type": "code",
   "execution_count": 131,
   "metadata": {},
   "outputs": [
    {
     "name": "stdout",
     "output_type": "stream",
     "text": [
      "MAE DBSCAN: 100.97993130447776\n",
      "MSE DBSCAN: 46429.5922319757\n"
     ]
    }
   ],
   "source": [
    "print('MAE DBSCAN:', mean_absolute_error(final_pred_DBSCAN.run_time, final_pred_DBSCAN.pred_DBSCAN))\n",
    "print('MSE DBSCAN:',mean_squared_error(final_pred_DBSCAN.run_time, final_pred_DBSCAN.pred_DBSCAN))"
   ]
  },
  {
   "cell_type": "code",
   "execution_count": 132,
   "metadata": {},
   "outputs": [],
   "source": [
    "# Prediction with Baseline\n",
    "target_group = targetTable[targetTable.lableSize_group>=2]\n",
    "target_group = target_group.sort_values(\"totalStart\", ascending=True)\n",
    "groupList = set(target_group['group'])"
   ]
  },
  {
   "cell_type": "code",
   "execution_count": 134,
   "metadata": {},
   "outputs": [],
   "source": [
    "final_X_train = final_X_test = final_y_train = final_Y_test = pd.DataFrame()\n",
    "Final_y_pred = job_list = list()\n",
    "\n",
    "targetTable['val'] = 1\n",
    "r2list = []\n",
    "msevallist = []\n",
    "maevallist = []\n",
    "\n",
    "final_X_train = final_X_test = final_y_train = final_Y_test = final_Y_real = pd.DataFrame()\n",
    "\n",
    "for gr in groupList:\n",
    "    temp = targetTable[targetTable.group==gr]\n",
    "    temp = temp.sort_values(\"totalStart\", ascending=True)\n",
    "    temp_job = list(temp.tail(1)['job_name'])\n",
    "\n",
    "    X_train, X_test, y_train, y_test = train_test_split(temp[['val']], temp[['run_time']], test_size=0.0001, shuffle=False)\n",
    "    regr = linear_model.LinearRegression()\n",
    "    regr.fit(X_train, y_train)\n",
    "    y_pred = regr.predict(X_test)\n",
    "    y_pred = list(y_pred.flatten())\n",
    "    \n",
    "    final_X_train = final_X_train.append(X_train)\n",
    "    final_X_test = final_X_test.append(X_test)\n",
    "    final_y_train = final_y_train.append(y_train)\n",
    "    final_Y_test = final_Y_test.append(y_test)\n",
    "\n",
    "    \n",
    "    Final_y_pred = [*Final_y_pred, *y_pred]\n",
    "    job_list = [*job_list, *temp_job]\n",
    "\n",
    "final_pred_BASELINE = final_Y_test.assign(pred_BASELINE = Final_y_pred, job_name = job_list)"
   ]
  },
  {
   "cell_type": "code",
   "execution_count": 135,
   "metadata": {},
   "outputs": [
    {
     "name": "stdout",
     "output_type": "stream",
     "text": [
      "140.64173249092704\n",
      "89279.02514189313\n"
     ]
    }
   ],
   "source": [
    "print(mean_absolute_error(final_pred_BASELINE.run_time, final_pred_BASELINE.pred_BASELINE))\n",
    "print(mean_squared_error(final_pred_BASELINE.run_time, final_pred_BASELINE.pred_BASELINE))"
   ]
  },
  {
   "cell_type": "code",
   "execution_count": 136,
   "metadata": {},
   "outputs": [],
   "source": [
    "#creating a comparable dataframe\n",
    "comparison_df = pd.merge(final_pred_BASELINE, final_pred_DBSCAN, how='inner', on = 'job_name')"
   ]
  },
  {
   "cell_type": "code",
   "execution_count": 137,
   "metadata": {},
   "outputs": [
    {
     "data": {
      "text/plain": [
       "5809"
      ]
     },
     "execution_count": 137,
     "metadata": {},
     "output_type": "execute_result"
    }
   ],
   "source": [
    "len(comparison_df)"
   ]
  },
  {
   "cell_type": "code",
   "execution_count": 138,
   "metadata": {},
   "outputs": [
    {
     "name": "stdout",
     "output_type": "stream",
     "text": [
      "110.5527466238778\n",
      "61556.193504929\n",
      "83.5087220996553\n",
      "38050.656610549966\n"
     ]
    }
   ],
   "source": [
    "print(mean_absolute_error(comparison_df.run_time_x, comparison_df.pred_BASELINE))\n",
    "print(mean_squared_error(comparison_df.run_time_x, comparison_df.pred_BASELINE))\n",
    "\n",
    "print(mean_absolute_error(comparison_df.run_time_x, comparison_df.pred_DBSCAN))\n",
    "print(mean_squared_error(comparison_df.run_time_x, comparison_df.pred_DBSCAN))"
   ]
  },
  {
   "cell_type": "code",
   "execution_count": 139,
   "metadata": {},
   "outputs": [],
   "source": [
    "##Visualization \n",
    "# generating a dataframe that contain real values and both the predictions\n",
    "\n",
    "real_runtime = list(comparison_df.run_time_x)\n",
    "baseline_runtime =list(comparison_df.pred_BASELINE)\n",
    "DBSCAN_runtime = list(comparison_df.pred_DBSCAN)\n",
    "df_pred_compar = pd.DataFrame(list(zip(real_runtime, baseline_runtime,DBSCAN_runtime)),columns =['real_runtime', 'baseline_runtime','DBSCAN_runtime'])\n",
    "df_pred_compar['MA_DBSCAN'] = df_pred_compar['real_runtime'] - df_pred_compar['DBSCAN_runtime']\n",
    "df_pred_compar['MA_baseline'] = df_pred_compar['real_runtime'] - df_pred_compar['baseline_runtime']"
   ]
  },
  {
   "cell_type": "code",
   "execution_count": 140,
   "metadata": {},
   "outputs": [],
   "source": [
    "df_pred_compar['MA_DBSCAN'] = df_pred_compar['real_runtime'] - df_pred_compar['DBSCAN_runtime']\n",
    "df_pred_compar['MA_baseline'] = df_pred_compar['real_runtime'] - df_pred_compar['baseline_runtime']"
   ]
  },
  {
   "cell_type": "code",
   "execution_count": 141,
   "metadata": {},
   "outputs": [
    {
     "data": {
      "image/png": "[encoded data removed]",
      "text/plain": [
       "<Figure size 432x288 with 1 Axes>"
      ]
     },
     "metadata": {
      "needs_background": "light"
     },
     "output_type": "display_data"
    }
   ],
   "source": [
    "bins = np.linspace(-1000, 1000, 35 )\n",
    "plt.hist([df_pred_compar['MA_DBSCAN'], df_pred_compar['MA_baseline']],bins, label=['Error_DBSCAN', 'Error_baseline'])\n",
    "plt.legend(loc='upper right')\n",
    "plt.xlabel(\"Prediction error (seconds)\")\n",
    "fig1 = plt.gcf()\n",
    "\n",
    "\n",
    "#fig1.savefig(\"graphs/prediction_comparison_dbscan_vs_baseline.pdf\",bbox_inches='tight')\n",
    "plt.show()\n",
    "plt.close()"
   ]
  },
  {
   "cell_type": "code",
   "execution_count": 142,
   "metadata": {},
   "outputs": [
    {
     "data": {
      "image/png": "[encoded data removed]",
      "text/plain": [
       "<Figure size 432x288 with 1 Axes>"
      ]
     },
     "metadata": {
      "needs_background": "light"
     },
     "output_type": "display_data"
    }
   ],
   "source": [
    "### histogram visualization singly (baseline)\n",
    "\n",
    "final_pred_BASELINE['error_baseline'] = final_pred_BASELINE['run_time'] - final_pred_BASELINE['pred_BASELINE']\n",
    "tempdf = final_pred_BASELINE[abs(final_pred_BASELINE['error_baseline']) < 3000 ]\n",
    "x = tempdf['error_baseline']\n",
    "fig, ax = plt.subplots(figsize = (6,4))\n",
    "x.plot(kind = \"hist\", density = True, alpha = 0.65, bins = 70)\n",
    "x.plot(kind = \"kde\")\n",
    "\n",
    "\n",
    "# X #\n",
    "ax.set_xlabel(\"Error by baseline\")\n",
    "ax.set_xlim(-1000, 1000)\n",
    "\n",
    " # Y #\n",
    "ax.set_ylabel(\"Frequency\")\n",
    "\n",
    "\n",
    "\n",
    "ax.tick_params(left = False, bottom = False)\n",
    "for ax, spine in ax.spines.items():\n",
    "    spine.set_visible(False)\n",
    "fig1 = plt.gcf()\n",
    "#fig1.savefig(\"graphs/HIST_Predictions_baseline.pdf\",bbox_inches='tight')\n",
    "plt.show()\n"
   ]
  },
  {
   "cell_type": "code",
   "execution_count": 143,
   "metadata": {},
   "outputs": [
    {
     "data": {
      "image/png": "[encoded data removed]",
      "text/plain": [
       "<Figure size 432x288 with 1 Axes>"
      ]
     },
     "metadata": {
      "needs_background": "light"
     },
     "output_type": "display_data"
    }
   ],
   "source": [
    "### histogram visualization singly (DBSCAN)\n",
    "tempdf = pd.DataFrame\n",
    "final_pred_DBSCAN['error_DBSCAN'] = final_pred_DBSCAN['run_time'] - final_pred_DBSCAN['pred_DBSCAN']\n",
    "tempdf = final_pred_DBSCAN[abs(final_pred_DBSCAN['error_DBSCAN']) < 3000 ]\n",
    "x = tempdf['error_DBSCAN']\n",
    "fig, ax = plt.subplots(figsize = (6,4))\n",
    "x.plot(kind = \"hist\", density = True, alpha = 0.65, bins = 60)\n",
    "x.plot(kind = \"kde\")\n",
    "\n",
    "\n",
    "# X #\n",
    "ax.set_xlabel(\"Error by DBSCAN\")\n",
    "ax.set_xlim(-1000, 1000)\n",
    "\n",
    " # Y #\n",
    "ax.set_ylabel(\"Frequency\")\n",
    "\n",
    "\n",
    "# Overall #\n",
    "#ax.set_title(\"Baseline error frequencies\")\n",
    "# Remove ticks and spines\n",
    "ax.tick_params(left = False, bottom = False)\n",
    "for ax, spine in ax.spines.items():\n",
    "    spine.set_visible(False)\n",
    "fig1 = plt.gcf()\n",
    "#fig1.savefig(\"graphs/HIST_Predictions_DBSCAN.pdf\",bbox_inches='tight')\n",
    "plt.show()\n"
   ]
  }
 ],
 "metadata": {
  "kernelspec": {
   "display_name": "Python 3",
   "language": "python",
   "name": "python3"
  },
  "language_info": {
   "codemirror_mode": {
    "name": "ipython",
    "version": 3
   },
   "file_extension": ".py",
   "mimetype": "text/x-python",
   "name": "python",
   "nbconvert_exporter": "python",
   "pygments_lexer": "ipython3",
   "version": "3.7.7"
  }
 },
 "nbformat": 4,
 "nbformat_minor": 4
}
