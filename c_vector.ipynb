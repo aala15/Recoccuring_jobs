{
 "cells": [
  {
   "cell_type": "code",
   "execution_count": 1,
   "metadata": {},
   "outputs": [],
   "source": [
    "import pandas as pd\n",
    "import numpy as np\n",
    "import seaborn as sns\n",
    "import regex as re\n",
    "import igraph as ig\n",
    "import sys\n",
    "from pytictoc import TicToc\n",
    "from functools import reduce\n",
    "import itertools\n",
    "from itertools import chain\n",
    "import cairocffi as cairo\n",
    "import networkx as nx\n",
    "import pickle\n",
    "import statistics\n",
    "from networkx.algorithms import approximation as apxa\n",
    "from networkx.algorithms import average_shortest_path_length\n",
    "from networkx.algorithms.dag import is_directed_acyclic_graph, dag_longest_path, dag_longest_path_length\n",
    "from networkx.algorithms.centrality import *\n",
    "from networkx.algorithms import clique\n",
    "from torch_geometric.data import Data\n",
    "import torch\n",
    "import matplotlib.pyplot as plt"
   ]
  },
  {
   "cell_type": "raw",
   "metadata": {},
   "source": [
    "Targer variable definition and preparing the data for the GNN:\n",
    "This script is runnable within 24 hours, The Histogram of DAGs density, runtime, #nodes\n",
    "\n",
    "#First checkpoint: extracting the y vector and saving in a dictionary (16 hours)\n",
    "\n",
    "#Second checkpoint: Outliers elimination, generating PyG objects (lesser than 4 hours), generating a dataframe of Y vector"
   ]
  },
  {
   "cell_type": "code",
   "execution_count": 27,
   "metadata": {},
   "outputs": [],
   "source": [
    "### Definition of necessary functions\n",
    "#edge extractor in desired format od data object of pyG\n",
    "def edgeExtractor (df):\n",
    "    fr = []\n",
    "    edges = df[df[\"task_name\"].str.contains(\"-\")][\"task_name\"].to_list()\n",
    "    for i in edges:\n",
    "        templist = list (map (int, i.split(\"-§-\"))) \n",
    "        \n",
    "# decrease the edge value by one to make starting point of edges from zero\n",
    "        templist = list (map (lambda x: x - 1, templist))\n",
    "        a, b = [templist[0]], templist[1:]\n",
    "        c = list(itertools.product(b,a))\n",
    "        d = [list(ele) for ele in c] \n",
    "        fr.append(d)\n",
    "        \n",
    "# final adoption to make the edges as list of list instead of list of vector\n",
    "    final = list(chain.from_iterable(fr))\n",
    "    final = torch.tensor(final, dtype=torch.long)\n",
    "    final = final.t()\n",
    "    return final\n",
    "\n",
    "#return average shortest path, if 0 means graph contains isolated nodes\n",
    "def ShortestPathFinde (nxg):\n",
    "    if not nx.is_weakly_connected(nxg):\n",
    "        return 0\n",
    "    else:\n",
    "        return average_shortest_path_length(nxg)\n",
    "\n",
    "    \n",
    "#return longest path in DAG, if 0 the graph is not DAG\n",
    "def LongestPath (nxg):\n",
    "    if not is_directed_acyclic_graph(nxg):\n",
    "        return 0\n",
    "    else:\n",
    "        return dag_longest_path_length(nxg)\n",
    "    \n",
    "    \n",
    "#return max number of cliques    \n",
    "def graphNumberOfClique(nxg):\n",
    "    return clique.graph_number_of_cliques(nxg.to_undirected())\n",
    "\n",
    "\n",
    "\n",
    "#return sum of centrality\n",
    "def sumDegreeCentrality (nxg):\n",
    "    return sum(list(degree_centrality(nxg).values()))\n",
    "\n",
    "\n",
    "#return maxDegreeCentrality\n",
    "def maxDegreeCentrality (nxg):\n",
    "    return max(list(degree_centrality(nxg).values()))\n",
    "\n",
    "\n",
    "#return attributes of the node with highest centrality 3 values will returned\n",
    "def attributesOfCenter (nxg):\n",
    "    degreeCentralityDict = degree_centrality(nxg)\n",
    "    centerNode = max(degreeCentralityDict, key=degreeCentralityDict.get)\n",
    "    plan_cpu, plan_mem, instance_num = list(nxg.nodes[centerNode].values())\n",
    "    return plan_cpu, plan_mem, instance_num\n",
    "\n",
    "def runtimeExtractor(df):\n",
    "    my_list = [] \n",
    "    another_list = [] \n",
    "    y = df.end_time.max() - df.start_time.min()\n",
    "    another_list.append(y)\n",
    "    my_list.append(another_list) \n",
    "    ytorch = torch.tensor(my_list, dtype=torch.float)\n",
    "    return ytorch\n",
    "\n",
    "# extractig features of the nodes, the df should grouped by job and ordered by node before\n",
    "def featExtractor (df):\n",
    "    x = df[['instance_num','plan_cpu','plan_mem']].values.tolist()\n",
    "    x = torch.tensor(x, dtype=torch.float)\n",
    "    return x\n",
    "\n",
    "def nanfinder(pyGO):\n",
    "    binaries = list(np.isnan(list(pyGO['x'].flatten())))\n",
    "    flag = reduce((lambda x, y: x or y), binaries)\n",
    "    return flag\n",
    "\n",
    "#extraction of Yvector. multiple dictionaries should be defined before applying this function\n",
    "\n",
    "def YvectorExtractor (df):\n",
    "    my_list = [] \n",
    "    another_list = [] \n",
    "    \n",
    "    #runtime\n",
    "    y1 = df.end_time.max() - df.start_time.min()\n",
    "    \n",
    "    #max path\n",
    "    y2 = df[df.task_name.map(len) == df.task_name.map(len).max()].head(1).task_name.str.count(\"§\").sum()\n",
    "    \n",
    "    #num edges\n",
    "    y3 = df.task_name.str.count(\"§\").sum()\n",
    "    \n",
    "    #num nodes\n",
    "    y4 = len(df)\n",
    "    \n",
    "    #average_shortest_path_length\n",
    "    y5 = AverageShortestPathLengthDict[df.iloc[0,3]]  \n",
    "    \n",
    "    #longest path\n",
    "    y6 = LongestPathLengthDict[df.iloc[0,3]]\n",
    "    \n",
    "    #number of cliques\n",
    "    y7 = graphNumberOfCliqueDict[df.iloc[0,3]]\n",
    "    \n",
    "    #sum of centrality of the graph\n",
    "    y8 = sumDegreeCentralityDict[df.iloc[0,3]]\n",
    "    \n",
    "    #max degree of centrality\n",
    "    y9 = maxDegreeCentralityDict[df.iloc[0,3]]\n",
    "    \n",
    "    #attributes with highes centrality\n",
    "    y10,y11,y12 = attributesOfCenterDict[df.iloc[0,3]]\n",
    "    \n",
    "    #avg node degree\n",
    "    y13= y3/y4\n",
    "    \n",
    "    #avg instance num\n",
    "    y14 = df.instance_num.mean()\n",
    "    \n",
    "    #avg plan cpu\n",
    "    y15 = df.plan_cpu.mean()\n",
    "    \n",
    "    #avg plan mem\n",
    "    y16 = df.plan_mem.mean()\n",
    "    \n",
    "    #sum instance num\n",
    "    y17 = df.instance_num.sum()\n",
    "    \n",
    "    #sum plan cpu\n",
    "    y18 = df.plan_cpu.sum()\n",
    "    \n",
    "    #sum plan mem\n",
    "    y19 = df.plan_mem.sum()\n",
    "    \n",
    "    #max instance num\n",
    "    y20 = df.instance_num.max()\n",
    "    \n",
    "    #max plan cpu\n",
    "    y21 = df.plan_cpu.max()\n",
    "    \n",
    "    #max plan mem\n",
    "    y22 = df.plan_mem.max()\n",
    "\n",
    "    another_list.extend([y1, y2, y3, y4, y5, y6, y7, y8, y9, y10, y11, y12, y13, y14, y15, y16, y17, y18, y19, y20, y21, y22])\n",
    "    my_list.append(another_list) \n",
    "    ytorch = torch.tensor(my_list, dtype=torch.float)\n",
    "    return ytorch\n"
   ]
  },
  {
   "cell_type": "code",
   "execution_count": 7,
   "metadata": {},
   "outputs": [],
   "source": [
    "time = TicToc()\n",
    "df = pd.read_csv(\"data/preprocessed_jobs.csv\")\n",
    "batch = pd.read_csv(\"data/batch_task.csv\",sep =',')\n",
    "file_to_read = open(\"data/DAGs_igraph_dict.pickle\", \"rb\")\n",
    "igraphObjects = pickle.load(file_to_read)"
   ]
  },
  {
   "cell_type": "code",
   "execution_count": 10,
   "metadata": {},
   "outputs": [],
   "source": [
    "not_finished_jobs = set(batch[batch.status!=\"Terminated\"].job_name)\n",
    "df = df[-df['job_name'].isin(not_finished_jobs)]"
   ]
  },
  {
   "cell_type": "code",
   "execution_count": 33,
   "metadata": {},
   "outputs": [
    {
     "name": "stdout",
     "output_type": "stream",
     "text": [
      "0.9707630110254334\n",
      "0.9823980591352469\n",
      "0.011878560747476681\n",
      "0.019806408643246606\n",
      "0.002984279509661239\n"
     ]
    }
   ],
   "source": [
    "#jobs with different status\n",
    "jobs_list = set(batch.job_name)\n",
    "\n",
    "unTerminated_jobs = set(batch[batch.status!=\"Terminated\"].job_name)\n",
    "unRunning_jobs = set(batch[batch.status!=\"Running\"].job_name)\n",
    "unFailed_jobs = set(batch[batch.status!=\"Failed\"].job_name)\n",
    "unWaiting_jobs = set(batch[batch.status!=\"Waiting\"].job_name)\n",
    "\n",
    "#precentage of fully executed jobs\n",
    "print(1 - len(unTerminated_jobs)/len(jobs_list))\n",
    "\n",
    "#precentage of dags which include other types of status\n",
    "print(len(set(batch[batch.status==\"Running\"].job_name))/ len(jobs_list))\n",
    "print(len(set(batch[batch.status==\"Failed\"].job_name))/ len(jobs_list))\n",
    "print(len(set(batch[batch.status==\"Waiting\"].job_name))/ len(jobs_list))\n"
   ]
  },
  {
   "cell_type": "code",
   "execution_count": 14,
   "metadata": {},
   "outputs": [],
   "source": [
    "not_finished_jobs = set(batch[batch.status!=\"Terminated\"].job_name)"
   ]
  },
  {
   "cell_type": "code",
   "execution_count": 15,
   "metadata": {},
   "outputs": [],
   "source": [
    "#removing the job if one task include NULL values\n",
    "df = df.groupby('job_name').filter(lambda g: g.isnull().sum().sum() < 1)"
   ]
  },
  {
   "cell_type": "code",
   "execution_count": 16,
   "metadata": {},
   "outputs": [],
   "source": [
    "networkXObjects = {key: value.to_networkx() for key, value in igraphObjects.items()}"
   ]
  },
  {
   "cell_type": "code",
   "execution_count": 12,
   "metadata": {},
   "outputs": [],
   "source": [
    "#generating multiple dictionaries for different attributes\n",
    "AverageShortestPathLengthDict = {key: ShortestPathFinde(value) for key, value in networkXObjects.items()}\n",
    "LongestPathLengthDict = {key: LongestPath(value) for key, value in networkXObjects.items()}\n",
    "graphNumberOfCliqueDict = {key: graphNumberOfClique(value) for key, value in networkXObjects.items()}\n",
    "sumDegreeCentralityDict = {key: sumDegreeCentrality(value) for key, value in networkXObjects.items()}\n",
    "maxDegreeCentralityDict = {key: maxDegreeCentrality(value) for key, value in networkXObjects.items()}\n",
    "attributesOfCenterDict = {key: attributesOfCenter(value) for key, value in networkXObjects.items()}"
   ]
  },
  {
   "cell_type": "code",
   "execution_count": 12,
   "metadata": {},
   "outputs": [
    {
     "name": "stdout",
     "output_type": "stream",
     "text": [
      "Elapsed time is 2.432157 seconds.\n"
     ]
    }
   ],
   "source": [
    "##creating a dictionary of PyG objects along with its relevant y vector\n",
    "##time consuming ca. 16 hours\n",
    "targetJobs = list(set(df.job_name))\n",
    "time.tic()\n",
    "DagsDict = {}\n",
    "for x in targetJobs:\n",
    "    tempdf = df[df.job_name == x]\n",
    "    data = Data(x=featExtractor(tempdf), y = YvectorExtractor(tempdf), edge_index=edgeExtractor(tempdf).contiguous())\n",
    "    DagsDict.update({x : data})\n",
    "time.toc()"
   ]
  },
  {
   "cell_type": "code",
   "execution_count": 24,
   "metadata": {},
   "outputs": [],
   "source": [
    "### Check point 1 ###\n",
    "### To run the rest of the code, the dictionaries should be generated###\n",
    "\n",
    "\n",
    "##file_to_write = open(\"data/PyG_vector_allDAGs.pickle, \"wb\")\n",
    "##pickle.dump(DagsDict, file_to_write)\n",
    "\n",
    "\n",
    "file_to_read = open(\"data/PyG_vector_allDAGs.pickle\", \"rb\")\n",
    "DagsDict = pickle.load(file_to_read)\n",
    "\n"
   ]
  },
  {
   "cell_type": "code",
   "execution_count": 16,
   "metadata": {},
   "outputs": [],
   "source": [
    "# outlier detection\n",
    "\n",
    "#graphs where number of nodes are lesser than 10\n",
    "outliersNodes = dict((k, v) for k, v in DagsDict.items() if v.num_nodes <= 9)\n",
    "\n",
    "#graph which number of edges does not make sense\n",
    "outliersEdge = dict((k, v) for k, v in DagsDict.items() if v.num_edges <= 4)\n",
    "\n",
    "#runtime over an hour\n",
    "outliersRuntime = dict((k, v) for k, v in DagsDict.items() if v.y[0][0].item() > 3600)\n",
    "\n",
    "\n",
    "#check if edge_index contains values equal to number_of_nodes\n",
    "outliersEdNo = dict((k, v) for k, v in DagsDict.items() if \n",
    "                    len(v.x.sum(dim=1)) != len(set(v.edge_index.flatten().numpy())))\n",
    "\n",
    "\n",
    "#check if the graph is not fully connected\n",
    "outliersWeeklyConnected = dict((k, v) for k, v in DagsDict.items() if v.y[0][4].item() == 0)\n",
    "\n",
    "\n",
    "\n",
    "#check if the graph is not DAG\n",
    "outliersNotDAGs = dict((k, v) for k, v in DagsDict.items() if v.y[0][5].item() == 0)\n",
    "\n",
    "\n",
    "#check if the graph includes isolated nodes\n",
    "outliersIsolated = dict((k, v) for k, v in DagsDict.items() if v.contains_isolated_nodes())\n",
    "\n",
    "\n",
    "#check if the #nodes does not match #node attributes \n",
    "outliersEdNo = dict((k, v) for k, v in DagsDict.items() if \n",
    "                    len(v.x.sum(dim=1)) != len(set(v.edge_index.flatten().numpy())))\n",
    "\n",
    "\n",
    "#check if DAGs contain NULL\n",
    "newdf = df.groupby('job_name').filter(lambda g: g.isnull().sum().sum() >= 1)\n",
    "nanJobs = list(set(newdf.job_name))\n",
    "\n",
    "\n",
    "not_finished_jobs = list(set(batch[batch.status!=\"Terminated\"].job_name))\n"
   ]
  },
  {
   "cell_type": "code",
   "execution_count": 31,
   "metadata": {},
   "outputs": [
    {
     "data": {
      "text/plain": [
       "2255"
      ]
     },
     "execution_count": 31,
     "metadata": {},
     "output_type": "execute_result"
    }
   ],
   "source": [
    "len(outliersRuntime)"
   ]
  },
  {
   "cell_type": "code",
   "execution_count": 28,
   "metadata": {},
   "outputs": [],
   "source": [
    "outliers = ( list(outliersNodes.keys()) + \n",
    "            list(outliersEdge.keys()) + \n",
    "            list(outliersRuntime.keys()) + \n",
    "            list(outliersEdNo.keys())   + \n",
    "            list(outliersIsolated.keys())   + \n",
    "            list(outliersWeeklyConnected) +\n",
    "            list(outliersNotDAGs) +\n",
    "            not_finished_jobs +\n",
    "            nanJobs)\n",
    "outliersSet = set(outliers)\n",
    "len(outliersSet)\n",
    "\n",
    "newDict = dict(filter(lambda elem: elem[0] not in outliersSet, DagsDict.items()))"
   ]
  },
  {
   "cell_type": "code",
   "execution_count": null,
   "metadata": {},
   "outputs": [],
   "source": [
    "#transform the dictionary to dataframe\n",
    "\n",
    "cols = [\n",
    "    'rtime',\n",
    "    'maxPath',\n",
    "    'numEdges',\n",
    "    'numNodes',\n",
    "    'avgShorPath',\n",
    "    'longPath',\n",
    "    'numCliques',\n",
    "    'sumCent',\n",
    "    'maxDegree',\n",
    "    'att1_maxDeg',\n",
    "    'att2_maxDeg',\n",
    "    'att3_maxDeg',\n",
    "    'avgNodeDegree',\n",
    "    'avgInsNum',\n",
    "    'avgPlanCpu',\n",
    "    'avgPlanMem',  \n",
    "    'sumInsNum',\n",
    "    'sumPlanCpu',\n",
    "    'sumPlanMem', \n",
    "    'maxInsNum',\n",
    "    'maxPlanCpu',\n",
    "    'maxPlanMem',\n",
    "    'job_name'\n",
    "]\n",
    "\n",
    "vec_df = pd.DataFrame(columns=cols)\n",
    "for key in newDict.keys():\n",
    "    temp_list = []\n",
    "    temp_list = newDict[key].y.numpy().flatten().tolist()\n",
    "    temp_list.append(key)\n",
    "    vec_df.loc[len(vec_df)] = temp_list"
   ]
  },
  {
   "cell_type": "code",
   "execution_count": null,
   "metadata": {},
   "outputs": [],
   "source": [
    "##### Check point 2 #####\n",
    "#file_to_write = open(\"data/PyG_vector_allDAGs.pickle\", \"wb\")\n",
    "#pickle.dump(DagsDict, file_to_write)"
   ]
  },
  {
   "cell_type": "code",
   "execution_count": null,
   "metadata": {},
   "outputs": [],
   "source": [
    "#vec_df.to_csv('data/vectorDF.csv', index = False)"
   ]
  },
  {
   "cell_type": "code",
   "execution_count": null,
   "metadata": {},
   "outputs": [],
   "source": [
    "#file_to_write = open(\"data/PyGO_vector_NNprepared.pickle\", \"wb\")\n",
    "#pickle.dump(newDict, file_to_write)"
   ]
  },
  {
   "cell_type": "code",
   "execution_count": 32,
   "metadata": {},
   "outputs": [],
   "source": [
    "##Visualizing of dataset####\n",
    "y_vector_df = pd.read_csv(\"data/vectorDF.csv\")"
   ]
  },
  {
   "cell_type": "code",
   "execution_count": 9,
   "metadata": {},
   "outputs": [
    {
     "data": {
      "image/png": "[encoded data removed]",
      "text/plain": [
       "<Figure size 432x288 with 1 Axes>"
      ]
     },
     "metadata": {
      "needs_background": "light"
     },
     "output_type": "display_data"
    }
   ],
   "source": [
    "#Visualizing runtime\n",
    "x = y_vector_df['rtime']\n",
    "fig, ax = plt.subplots(figsize = (6,4))\n",
    "x.plot(kind = \"hist\", density = True, alpha = 0.65, bins = 60)\n",
    "x.plot(kind = \"kde\")\n",
    "\n",
    "\n",
    "# X #\n",
    "ax.set_xlabel(\"Runtimes (second)\",fontsize=8)\n",
    "ax.set_xlim(0, 3600)\n",
    "\n",
    "\n",
    " # Y #\n",
    "ax.set_ylim(0,0.01)\n",
    "\n",
    "ax.set_ylabel(\"Frequency\",fontsize=8)\n",
    "\n",
    "\n",
    "\n",
    "# Calculate percentiles\n",
    "quant_50, quant_75, quant_95 = x.quantile(0.50), x.quantile(0.75), x.quantile(0.95)\n",
    "ticks = [int(quant_50), 500,1000,1500,2000,2500,3500,int(quant_75), int(quant_95)]\n",
    "ax.set_xticks(ticks)\n",
    "ax.set_xticklabels(ticks, rotation=90, fontsize=7)\n",
    "\n",
    "# [quantile, opacity, length]\n",
    "quants = [[quant_50, 1, 0.36],  [quant_75, 0.8, 0.46], [quant_95, 0.6, 0.56]]\n",
    "\n",
    "# Plot the lines with a loop\n",
    "for i in quants:\n",
    "    ax.axvline(i[0], alpha = i[1], ymax = i[2], linestyle = \":\")\n",
    "\n",
    "ax.text(quant_50, 0.0037, \"50th Percentile\", size = 12, alpha = 1)\n",
    "ax.text(quant_75, 0.0047, \"75th Percentile\", size = 11, alpha = 0.85)\n",
    "ax.text(quant_95, 0.0057, \"95th Percentile\", size = 10, alpha =.8)\n",
    "###\n",
    "\n",
    "\n",
    "# Overall #\n",
    "#ax.set_title(\"Runtime frequencies\")\n",
    "# Remove ticks and spines\n",
    "ax.tick_params(left = False, bottom = False)\n",
    "for ax, spine in ax.spines.items():\n",
    "    spine.set_visible(False)\n",
    "#plt.savefig(\"graphs/HIST_runtime.pdf\", bbox_inches='tight')\n",
    "plt.show()\n",
    "plt.close()\n"
   ]
  },
  {
   "cell_type": "code",
   "execution_count": 10,
   "metadata": {},
   "outputs": [
    {
     "data": {
      "image/png": "[encoded data removed]",
      "text/plain": [
       "<Figure size 432x288 with 1 Axes>"
      ]
     },
     "metadata": {
      "needs_background": "light"
     },
     "output_type": "display_data"
    }
   ],
   "source": [
    "#Visualizing runtime\n",
    "x = y_vector_df['rtime']\n",
    "fig, ax = plt.subplots(figsize = (6,4))\n",
    "x.plot(kind = \"hist\", density = True, alpha = 0.65, bins = 60)\n",
    "x.plot(kind = \"kde\")\n",
    "\n",
    "\n",
    "# X #\n",
    "ax.set_xlabel(\"Runtimes (second)\",fontsize=8)\n",
    "ax.set_xlim(0, 3600)\n",
    "\n",
    "\n",
    " # Y #\n",
    "ax.set_ylim(0,0.01)\n",
    "     #Remove y ticks\n",
    "#ax.set_yticks([])\n",
    "    # Relabel the axis as \"Frequency\"\n",
    "ax.set_ylabel(\"Frequency\",fontsize=8)\n",
    "\n",
    "###\n",
    "#Quantile\n",
    "\n",
    "\n",
    "# Calculate percentiles\n",
    "quant_50, quant_75, quant_95 = x.quantile(0.50), x.quantile(0.75), x.quantile(0.95)\n",
    "ticks = [int(quant_50), 500,1000,1500,2000,2500,3500,int(quant_75), int(quant_95)]\n",
    "ax.set_xticks(ticks)\n",
    "ax.set_xticklabels(ticks, rotation=90, fontsize=7)\n",
    "\n",
    "# [quantile, opacity, length]\n",
    "quants = [[quant_50, 1, 0.36],  [quant_75, 0.8, 0.46], [quant_95, 0.6, 0.56]]\n",
    "\n",
    "# Plot the lines with a loop\n",
    "for i in quants:\n",
    "    ax.axvline(i[0], alpha = i[1], ymax = i[2], linestyle = \":\")\n",
    "\n",
    "ax.text(quant_50, 0.0037, \"50th Percentile\", size = 12, alpha = 1)\n",
    "ax.text(quant_75, 0.0047, \"75th Percentile\", size = 11, alpha = 0.85)\n",
    "ax.text(quant_95, 0.0057, \"95th Percentile\", size = 10, alpha =.8)\n",
    "###\n",
    "\n",
    "\n",
    "# Overall #\n",
    "#ax.set_title(\"Runtime frequencies\")\n",
    "# Remove ticks and spines\n",
    "ax.tick_params(left = False, bottom = False)\n",
    "for ax, spine in ax.spines.items():\n",
    "    spine.set_visible(False)\n",
    "#plt.savefig(\"graphs/HIST_runtime.pdf\", bbox_inches='tight')\n",
    "plt.show()\n",
    "plt.close()\n"
   ]
  },
  {
   "cell_type": "code",
   "execution_count": 36,
   "metadata": {},
   "outputs": [
    {
     "data": {
      "text/plain": [
       "134.0"
      ]
     },
     "execution_count": 36,
     "metadata": {},
     "output_type": "execute_result"
    }
   ],
   "source": [
    "np.max(y_vector_df.numNodes)"
   ]
  },
  {
   "cell_type": "code",
   "execution_count": 73,
   "metadata": {},
   "outputs": [
    {
     "data": {
      "text/plain": [
       "Index(['rtime', 'maxPath', 'numEdges', 'numNodes', 'avgShorPath', 'longPath',\n",
       "       'numCliques', 'sumCent', 'maxDegree', 'att1_maxDeg', 'att2_maxDeg',\n",
       "       'att3_maxDeg', 'avgNodeDegree', 'avgInsNum', 'avgPlanCpu', 'avgPlanMem',\n",
       "       'sumInsNum', 'sumPlanCpu', 'sumPlanMem', 'maxInsNum', 'maxPlanCpu',\n",
       "       'maxPlanMem', 'job_name'],\n",
       "      dtype='object')"
      ]
     },
     "execution_count": 73,
     "metadata": {},
     "output_type": "execute_result"
    }
   ],
   "source": [
    "y_vector_df.columns"
   ]
  },
  {
   "cell_type": "code",
   "execution_count": 77,
   "metadata": {},
   "outputs": [
    {
     "data": {
      "text/plain": [
       "count    232809.000000\n",
       "mean         16.926910\n",
       "std          10.343906\n",
       "min           9.000000\n",
       "25%          11.000000\n",
       "50%          14.000000\n",
       "75%          19.000000\n",
       "max         218.000000\n",
       "Name: numEdges, dtype: float64"
      ]
     },
     "execution_count": 77,
     "metadata": {},
     "output_type": "execute_result"
    }
   ],
   "source": [
    "y_vector_df.describe().numEdges"
   ]
  },
  {
   "cell_type": "code",
   "execution_count": 27,
   "metadata": {},
   "outputs": [],
   "source": [
    "#Visualizing density of graphs\n",
    "y_vector_df['edge_density'] = y_vector_df.apply (lambda row: round(nx.density((networkXObjects[row.job_name])),3), axis = 1)"
   ]
  },
  {
   "cell_type": "code",
   "execution_count": 68,
   "metadata": {},
   "outputs": [
    {
     "data": {
      "image/png": "[encoded data removed]",
      "text/plain": [
       "<Figure size 432x288 with 1 Axes>"
      ]
     },
     "metadata": {
      "needs_background": "light"
     },
     "output_type": "display_data"
    }
   ],
   "source": [
    "#Visualizing runtime\n",
    "x = y_vector_df['edge_density']\n",
    "fig, ax = plt.subplots(figsize = (6,4))\n",
    "x.plot(kind = \"hist\", density = True, alpha = 0.65, bins = 25)\n",
    "x.plot(kind = \"kde\")\n",
    "\n",
    "\n",
    "# X #\n",
    "ax.set_xlabel(\"DAGs' densities\",fontsize=8)\n",
    "ax.set_xlim(0, 0.2)\n",
    "\n",
    "\n",
    " # Y #\n",
    "ax.set_ylim(0,25)\n",
    "     #Remove y ticks\n",
    "#ax.set_yticks([])\n",
    "    # Relabel the axis as \"Frequency\"\n",
    "ax.set_ylabel(\"Frequency\",fontsize=8)\n",
    "\n",
    "###\n",
    "#Quantile\n",
    "\n",
    "\n",
    "# Calculate percentiles\n",
    "quant_50, quant_75, quant_95 = x.quantile(0.50), x.quantile(0.75), x.quantile(0.95)\n",
    "ticks = [float(quant_50),0.03,0.06,0.15,0.18, 0.2, float(quant_75), float(quant_95)]\n",
    "ax.set_xticks(ticks)\n",
    "ax.set_xticklabels(ticks, rotation=90, fontsize=7)\n",
    "\n",
    "# [quantile, opacity, length]\n",
    "quants = [[quant_50, 1, 0.36],  [quant_75, 0.8, 0.46], [quant_95, 0.6, 0.56]]\n",
    "\n",
    "# Plot the lines with a loop\n",
    "for i in quants:\n",
    "    ax.axvline(i[0], alpha = i[1], ymax = i[2], linestyle = \":\")\n",
    "\n",
    "ax.text(quant_50, 9, \"50th Percentile\", size = 12, alpha = 1)\n",
    "ax.text(quant_75, 11.5, \"75th Percentile\", size = 11, alpha = 0.85)\n",
    "ax.text(quant_95, 14, \"95th Percentile\", size = 10, alpha =.8)\n",
    "###\n",
    "\n",
    "\n",
    "# Overall #\n",
    "#ax.set_title(\"Runtime frequencies\")\n",
    "# Remove ticks and spines\n",
    "ax.tick_params(left = False, bottom = False)\n",
    "for ax, spine in ax.spines.items():\n",
    "    spine.set_visible(False)\n",
    "#plt.savefig(\"graphs/HIST_density.pdf\", bbox_inches='tight')\n",
    "plt.show()\n",
    "plt.close()\n"
   ]
  }
 ],
 "metadata": {
  "kernelspec": {
   "display_name": "Python 3",
   "language": "python",
   "name": "python3"
  },
  "language_info": {
   "codemirror_mode": {
    "name": "ipython",
    "version": 3
   },
   "file_extension": ".py",
   "mimetype": "text/x-python",
   "name": "python",
   "nbconvert_exporter": "python",
   "pygments_lexer": "ipython3",
   "version": "3.7.7"
  }
 },
 "nbformat": 4,
 "nbformat_minor": 4
}
